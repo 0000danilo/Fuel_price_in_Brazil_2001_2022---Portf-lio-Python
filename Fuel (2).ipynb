{
 "cells": [
  {
   "cell_type": "markdown",
   "id": "da5c111f",
   "metadata": {},
   "source": [
    "# Exploração e análise de dados de crédito com Python"
   ]
  },
  {
   "cell_type": "markdown",
   "id": "f868e2a6",
   "metadata": {},
   "source": [
    "Esse notebook faz parte do meu desenvolvimento como Análista de Dados Python"
   ]
  },
  {
   "cell_type": "markdown",
   "id": "f6853a52",
   "metadata": {},
   "source": [
    "## Os dados:\n",
    "Os dados representam informações de combustíveis de um banco e contam com as seguintes colunas:\n",
    "\n",
    "- DATE = data da venda\n",
    "- PRODUCT = tipo do produto\n",
    "- REGION = região\n",
    "- STATE = estado\n",
    "- CITY = cidade\n",
    "- NUMBER OF FUEL STATIONS SEARCHE \n",
    "- UNIT OF MEASUREMENT\t\n",
    "- RESALE AVERAGE PRICE = preço medio de revenda\n",
    "- RESALE STANDARD DEVIATION\t\n",
    "- RESALE MINIMUM PRICE\t\n",
    "- RESALE MAXIMUM PRICE\t\n",
    "- DISTRIBUTION AVERAGE PRICE\n",
    "- DISTRIBUTION STANDARD DEVIATION\n",
    "- DISTRIBUTION MINIMUM PRICE\t\n",
    "- DISTRIBUTION MAXIMUM PRICE"
   ]
  },
  {
   "cell_type": "markdown",
   "id": "524f6b9c",
   "metadata": {},
   "source": [
    "## Exploração de dados:\n",
    "A primeira fase da análise é entender o que tem na nossa matéria prima. Vamos a exploração de dados:\n"
   ]
  },
  {
   "cell_type": "markdown",
   "id": "583c6e52",
   "metadata": {},
   "source": [
    "### 1. Importando as bibliotecas e explorando os dados"
   ]
  },
  {
   "cell_type": "code",
   "execution_count": 209,
   "id": "0b0f28ef",
   "metadata": {},
   "outputs": [],
   "source": [
    "import pandas as pd\n",
    "import numpy as np"
   ]
  },
  {
   "cell_type": "code",
   "execution_count": 210,
   "id": "27b0347d",
   "metadata": {},
   "outputs": [],
   "source": [
    "df = pd.read_csv('Fuel_price_in_Brazil_2001_2022.csv', sep = ';')"
   ]
  },
  {
   "cell_type": "code",
   "execution_count": 211,
   "id": "eb6c4917",
   "metadata": {
    "scrolled": true
   },
   "outputs": [
    {
     "data": {
      "text/html": [
       "<div>\n",
       "<style scoped>\n",
       "    .dataframe tbody tr th:only-of-type {\n",
       "        vertical-align: middle;\n",
       "    }\n",
       "\n",
       "    .dataframe tbody tr th {\n",
       "        vertical-align: top;\n",
       "    }\n",
       "\n",
       "    .dataframe thead th {\n",
       "        text-align: right;\n",
       "    }\n",
       "</style>\n",
       "<table border=\"1\" class=\"dataframe\">\n",
       "  <thead>\n",
       "    <tr style=\"text-align: right;\">\n",
       "      <th></th>\n",
       "      <th>DATE</th>\n",
       "      <th>PRODUCT</th>\n",
       "      <th>REGION</th>\n",
       "      <th>STATE</th>\n",
       "      <th>CITY</th>\n",
       "      <th>NUMBER OF FUEL STATIONS SEARCHED</th>\n",
       "      <th>UNIT OF MEASUREMENT</th>\n",
       "      <th>RESALE AVERAGE PRICE</th>\n",
       "      <th>RESALE STANDARD DEVIATION</th>\n",
       "      <th>RESALE MINIMUM PRICE</th>\n",
       "      <th>RESALE MAXIMUM PRICE</th>\n",
       "      <th>DISTRIBUTION AVERAGE PRICE</th>\n",
       "      <th>DISTRIBUTION STANDARD DEVIATION</th>\n",
       "      <th>DISTRIBUTION MINIMUM PRICE</th>\n",
       "      <th>DISTRIBUTION MAXIMUM PRICE</th>\n",
       "      <th>Unnamed: 15</th>\n",
       "      <th>Unnamed: 16</th>\n",
       "      <th>Unnamed: 17</th>\n",
       "      <th>Unnamed: 18</th>\n",
       "      <th>Unnamed: 19</th>\n",
       "    </tr>\n",
       "  </thead>\n",
       "  <tbody>\n",
       "    <tr>\n",
       "      <th>0</th>\n",
       "      <td>07/01/01</td>\n",
       "      <td>ETANOL HIDRATADO</td>\n",
       "      <td>CENTRO OESTE</td>\n",
       "      <td>DISTRITO FEDERAL</td>\n",
       "      <td>BRASILIA</td>\n",
       "      <td>515</td>\n",
       "      <td>R$/l</td>\n",
       "      <td>1,175</td>\n",
       "      <td>0,010</td>\n",
       "      <td>1,100</td>\n",
       "      <td>1,230</td>\n",
       "      <td>0,816</td>\n",
       "      <td>0,089</td>\n",
       "      <td>0,441</td>\n",
       "      <td>1,086</td>\n",
       "      <td>NaN</td>\n",
       "      <td>NaN</td>\n",
       "      <td>NaN</td>\n",
       "      <td>NaN</td>\n",
       "      <td>NaN</td>\n",
       "    </tr>\n",
       "    <tr>\n",
       "      <th>1</th>\n",
       "      <td>07/01/01</td>\n",
       "      <td>ETANOL HIDRATADO</td>\n",
       "      <td>CENTRO OESTE</td>\n",
       "      <td>GOIAS</td>\n",
       "      <td>GOIANIA</td>\n",
       "      <td>368</td>\n",
       "      <td>R$/l</td>\n",
       "      <td>0,971</td>\n",
       "      <td>0,049</td>\n",
       "      <td>0,809</td>\n",
       "      <td>1,180</td>\n",
       "      <td>0,759</td>\n",
       "      <td>0,076</td>\n",
       "      <td>0,500</td>\n",
       "      <td>0,953</td>\n",
       "      <td>NaN</td>\n",
       "      <td>NaN</td>\n",
       "      <td>NaN</td>\n",
       "      <td>NaN</td>\n",
       "      <td>NaN</td>\n",
       "    </tr>\n",
       "    <tr>\n",
       "      <th>2</th>\n",
       "      <td>07/01/01</td>\n",
       "      <td>ETANOL HIDRATADO</td>\n",
       "      <td>CENTRO OESTE</td>\n",
       "      <td>GOIAS</td>\n",
       "      <td>LUZIANIA</td>\n",
       "      <td>2</td>\n",
       "      <td>R$/l</td>\n",
       "      <td>1,320</td>\n",
       "      <td>0,240</td>\n",
       "      <td>1,150</td>\n",
       "      <td>1,490</td>\n",
       "      <td>0,692</td>\n",
       "      <td>0,000</td>\n",
       "      <td>0,692</td>\n",
       "      <td>0,692</td>\n",
       "      <td>NaN</td>\n",
       "      <td>NaN</td>\n",
       "      <td>NaN</td>\n",
       "      <td>NaN</td>\n",
       "      <td>NaN</td>\n",
       "    </tr>\n",
       "    <tr>\n",
       "      <th>3</th>\n",
       "      <td>07/01/01</td>\n",
       "      <td>ETANOL HIDRATADO</td>\n",
       "      <td>CENTRO OESTE</td>\n",
       "      <td>GOIAS</td>\n",
       "      <td>VALPARAISO DE GOIAS</td>\n",
       "      <td>7</td>\n",
       "      <td>R$/l</td>\n",
       "      <td>1,170</td>\n",
       "      <td>0,000</td>\n",
       "      <td>1,169</td>\n",
       "      <td>1,170</td>\n",
       "      <td>0,823</td>\n",
       "      <td>0,138</td>\n",
       "      <td>0,726</td>\n",
       "      <td>0,921</td>\n",
       "      <td>NaN</td>\n",
       "      <td>NaN</td>\n",
       "      <td>NaN</td>\n",
       "      <td>NaN</td>\n",
       "      <td>NaN</td>\n",
       "    </tr>\n",
       "    <tr>\n",
       "      <th>4</th>\n",
       "      <td>07/01/01</td>\n",
       "      <td>ETANOL HIDRATADO</td>\n",
       "      <td>CENTRO OESTE</td>\n",
       "      <td>MATO GROSSO</td>\n",
       "      <td>CUIABA</td>\n",
       "      <td>244</td>\n",
       "      <td>R$/l</td>\n",
       "      <td>1,033</td>\n",
       "      <td>0,120</td>\n",
       "      <td>0,807</td>\n",
       "      <td>1,290</td>\n",
       "      <td>0,831</td>\n",
       "      <td>0,113</td>\n",
       "      <td>0,612</td>\n",
       "      <td>1,100</td>\n",
       "      <td>NaN</td>\n",
       "      <td>NaN</td>\n",
       "      <td>NaN</td>\n",
       "      <td>NaN</td>\n",
       "      <td>NaN</td>\n",
       "    </tr>\n",
       "  </tbody>\n",
       "</table>\n",
       "</div>"
      ],
      "text/plain": [
       "       DATE           PRODUCT        REGION             STATE  \\\n",
       "0  07/01/01  ETANOL HIDRATADO  CENTRO OESTE  DISTRITO FEDERAL   \n",
       "1  07/01/01  ETANOL HIDRATADO  CENTRO OESTE             GOIAS   \n",
       "2  07/01/01  ETANOL HIDRATADO  CENTRO OESTE             GOIAS   \n",
       "3  07/01/01  ETANOL HIDRATADO  CENTRO OESTE             GOIAS   \n",
       "4  07/01/01  ETANOL HIDRATADO  CENTRO OESTE       MATO GROSSO   \n",
       "\n",
       "                  CITY  NUMBER OF FUEL STATIONS SEARCHED UNIT OF MEASUREMENT  \\\n",
       "0             BRASILIA                               515                R$/l   \n",
       "1              GOIANIA                               368                R$/l   \n",
       "2             LUZIANIA                                 2                R$/l   \n",
       "3  VALPARAISO DE GOIAS                                 7                R$/l   \n",
       "4               CUIABA                               244                R$/l   \n",
       "\n",
       "  RESALE AVERAGE PRICE RESALE STANDARD DEVIATION RESALE MINIMUM PRICE  \\\n",
       "0                1,175                     0,010                1,100   \n",
       "1                0,971                     0,049                0,809   \n",
       "2                1,320                     0,240                1,150   \n",
       "3                1,170                     0,000                1,169   \n",
       "4                1,033                     0,120                0,807   \n",
       "\n",
       "  RESALE MAXIMUM PRICE DISTRIBUTION AVERAGE PRICE  \\\n",
       "0                1,230                      0,816   \n",
       "1                1,180                      0,759   \n",
       "2                1,490                      0,692   \n",
       "3                1,170                      0,823   \n",
       "4                1,290                      0,831   \n",
       "\n",
       "  DISTRIBUTION STANDARD DEVIATION DISTRIBUTION MINIMUM PRICE  \\\n",
       "0                           0,089                      0,441   \n",
       "1                           0,076                      0,500   \n",
       "2                           0,000                      0,692   \n",
       "3                           0,138                      0,726   \n",
       "4                           0,113                      0,612   \n",
       "\n",
       "  DISTRIBUTION MAXIMUM PRICE  Unnamed: 15  Unnamed: 16  Unnamed: 17  \\\n",
       "0                      1,086          NaN          NaN          NaN   \n",
       "1                      0,953          NaN          NaN          NaN   \n",
       "2                      0,692          NaN          NaN          NaN   \n",
       "3                      0,921          NaN          NaN          NaN   \n",
       "4                      1,100          NaN          NaN          NaN   \n",
       "\n",
       "   Unnamed: 18  Unnamed: 19  \n",
       "0          NaN          NaN  \n",
       "1          NaN          NaN  \n",
       "2          NaN          NaN  \n",
       "3          NaN          NaN  \n",
       "4          NaN          NaN  "
      ]
     },
     "execution_count": 211,
     "metadata": {},
     "output_type": "execute_result"
    }
   ],
   "source": [
    "df.head()"
   ]
  },
  {
   "cell_type": "markdown",
   "id": "3d6f5f83",
   "metadata": {},
   "source": [
    "- Logo foi verificado que há colunas vazias e o proximo passo vai ser retirá-las "
   ]
  },
  {
   "cell_type": "code",
   "execution_count": 212,
   "id": "358012f2",
   "metadata": {},
   "outputs": [],
   "source": [
    "# Selecionar as colunas não nomeadas para remover\n",
    "remov_col = ['Unnamed: 15', 'Unnamed: 16', 'Unnamed: 17', 'Unnamed: 18', 'Unnamed: 19']\n",
    "\n",
    "# Remover as colunas usando o método drop()\n",
    "df = df.drop(remov_col, axis = 1)\n"
   ]
  },
  {
   "cell_type": "markdown",
   "id": "198309a4",
   "metadata": {},
   "source": [
    "- Foi usado o metodo drop para retirar as colunas vazias"
   ]
  },
  {
   "cell_type": "code",
   "execution_count": 213,
   "id": "6085a427",
   "metadata": {},
   "outputs": [
    {
     "data": {
      "text/html": [
       "<div>\n",
       "<style scoped>\n",
       "    .dataframe tbody tr th:only-of-type {\n",
       "        vertical-align: middle;\n",
       "    }\n",
       "\n",
       "    .dataframe tbody tr th {\n",
       "        vertical-align: top;\n",
       "    }\n",
       "\n",
       "    .dataframe thead th {\n",
       "        text-align: right;\n",
       "    }\n",
       "</style>\n",
       "<table border=\"1\" class=\"dataframe\">\n",
       "  <thead>\n",
       "    <tr style=\"text-align: right;\">\n",
       "      <th></th>\n",
       "      <th>DATE</th>\n",
       "      <th>PRODUCT</th>\n",
       "      <th>REGION</th>\n",
       "      <th>STATE</th>\n",
       "      <th>CITY</th>\n",
       "      <th>NUMBER OF FUEL STATIONS SEARCHED</th>\n",
       "      <th>UNIT OF MEASUREMENT</th>\n",
       "      <th>RESALE AVERAGE PRICE</th>\n",
       "      <th>RESALE STANDARD DEVIATION</th>\n",
       "      <th>RESALE MINIMUM PRICE</th>\n",
       "      <th>RESALE MAXIMUM PRICE</th>\n",
       "      <th>DISTRIBUTION AVERAGE PRICE</th>\n",
       "      <th>DISTRIBUTION STANDARD DEVIATION</th>\n",
       "      <th>DISTRIBUTION MINIMUM PRICE</th>\n",
       "      <th>DISTRIBUTION MAXIMUM PRICE</th>\n",
       "    </tr>\n",
       "  </thead>\n",
       "  <tbody>\n",
       "    <tr>\n",
       "      <th>0</th>\n",
       "      <td>07/01/01</td>\n",
       "      <td>ETANOL HIDRATADO</td>\n",
       "      <td>CENTRO OESTE</td>\n",
       "      <td>DISTRITO FEDERAL</td>\n",
       "      <td>BRASILIA</td>\n",
       "      <td>515</td>\n",
       "      <td>R$/l</td>\n",
       "      <td>1,175</td>\n",
       "      <td>0,010</td>\n",
       "      <td>1,100</td>\n",
       "      <td>1,230</td>\n",
       "      <td>0,816</td>\n",
       "      <td>0,089</td>\n",
       "      <td>0,441</td>\n",
       "      <td>1,086</td>\n",
       "    </tr>\n",
       "    <tr>\n",
       "      <th>1</th>\n",
       "      <td>07/01/01</td>\n",
       "      <td>ETANOL HIDRATADO</td>\n",
       "      <td>CENTRO OESTE</td>\n",
       "      <td>GOIAS</td>\n",
       "      <td>GOIANIA</td>\n",
       "      <td>368</td>\n",
       "      <td>R$/l</td>\n",
       "      <td>0,971</td>\n",
       "      <td>0,049</td>\n",
       "      <td>0,809</td>\n",
       "      <td>1,180</td>\n",
       "      <td>0,759</td>\n",
       "      <td>0,076</td>\n",
       "      <td>0,500</td>\n",
       "      <td>0,953</td>\n",
       "    </tr>\n",
       "    <tr>\n",
       "      <th>2</th>\n",
       "      <td>07/01/01</td>\n",
       "      <td>ETANOL HIDRATADO</td>\n",
       "      <td>CENTRO OESTE</td>\n",
       "      <td>GOIAS</td>\n",
       "      <td>LUZIANIA</td>\n",
       "      <td>2</td>\n",
       "      <td>R$/l</td>\n",
       "      <td>1,320</td>\n",
       "      <td>0,240</td>\n",
       "      <td>1,150</td>\n",
       "      <td>1,490</td>\n",
       "      <td>0,692</td>\n",
       "      <td>0,000</td>\n",
       "      <td>0,692</td>\n",
       "      <td>0,692</td>\n",
       "    </tr>\n",
       "    <tr>\n",
       "      <th>3</th>\n",
       "      <td>07/01/01</td>\n",
       "      <td>ETANOL HIDRATADO</td>\n",
       "      <td>CENTRO OESTE</td>\n",
       "      <td>GOIAS</td>\n",
       "      <td>VALPARAISO DE GOIAS</td>\n",
       "      <td>7</td>\n",
       "      <td>R$/l</td>\n",
       "      <td>1,170</td>\n",
       "      <td>0,000</td>\n",
       "      <td>1,169</td>\n",
       "      <td>1,170</td>\n",
       "      <td>0,823</td>\n",
       "      <td>0,138</td>\n",
       "      <td>0,726</td>\n",
       "      <td>0,921</td>\n",
       "    </tr>\n",
       "    <tr>\n",
       "      <th>4</th>\n",
       "      <td>07/01/01</td>\n",
       "      <td>ETANOL HIDRATADO</td>\n",
       "      <td>CENTRO OESTE</td>\n",
       "      <td>MATO GROSSO</td>\n",
       "      <td>CUIABA</td>\n",
       "      <td>244</td>\n",
       "      <td>R$/l</td>\n",
       "      <td>1,033</td>\n",
       "      <td>0,120</td>\n",
       "      <td>0,807</td>\n",
       "      <td>1,290</td>\n",
       "      <td>0,831</td>\n",
       "      <td>0,113</td>\n",
       "      <td>0,612</td>\n",
       "      <td>1,100</td>\n",
       "    </tr>\n",
       "  </tbody>\n",
       "</table>\n",
       "</div>"
      ],
      "text/plain": [
       "       DATE           PRODUCT        REGION             STATE  \\\n",
       "0  07/01/01  ETANOL HIDRATADO  CENTRO OESTE  DISTRITO FEDERAL   \n",
       "1  07/01/01  ETANOL HIDRATADO  CENTRO OESTE             GOIAS   \n",
       "2  07/01/01  ETANOL HIDRATADO  CENTRO OESTE             GOIAS   \n",
       "3  07/01/01  ETANOL HIDRATADO  CENTRO OESTE             GOIAS   \n",
       "4  07/01/01  ETANOL HIDRATADO  CENTRO OESTE       MATO GROSSO   \n",
       "\n",
       "                  CITY  NUMBER OF FUEL STATIONS SEARCHED UNIT OF MEASUREMENT  \\\n",
       "0             BRASILIA                               515                R$/l   \n",
       "1              GOIANIA                               368                R$/l   \n",
       "2             LUZIANIA                                 2                R$/l   \n",
       "3  VALPARAISO DE GOIAS                                 7                R$/l   \n",
       "4               CUIABA                               244                R$/l   \n",
       "\n",
       "  RESALE AVERAGE PRICE RESALE STANDARD DEVIATION RESALE MINIMUM PRICE  \\\n",
       "0                1,175                     0,010                1,100   \n",
       "1                0,971                     0,049                0,809   \n",
       "2                1,320                     0,240                1,150   \n",
       "3                1,170                     0,000                1,169   \n",
       "4                1,033                     0,120                0,807   \n",
       "\n",
       "  RESALE MAXIMUM PRICE DISTRIBUTION AVERAGE PRICE  \\\n",
       "0                1,230                      0,816   \n",
       "1                1,180                      0,759   \n",
       "2                1,490                      0,692   \n",
       "3                1,170                      0,823   \n",
       "4                1,290                      0,831   \n",
       "\n",
       "  DISTRIBUTION STANDARD DEVIATION DISTRIBUTION MINIMUM PRICE  \\\n",
       "0                           0,089                      0,441   \n",
       "1                           0,076                      0,500   \n",
       "2                           0,000                      0,692   \n",
       "3                           0,138                      0,726   \n",
       "4                           0,113                      0,612   \n",
       "\n",
       "  DISTRIBUTION MAXIMUM PRICE  \n",
       "0                      1,086  \n",
       "1                      0,953  \n",
       "2                      0,692  \n",
       "3                      0,921  \n",
       "4                      1,100  "
      ]
     },
     "execution_count": 213,
     "metadata": {},
     "output_type": "execute_result"
    }
   ],
   "source": [
    "df.head(5)"
   ]
  },
  {
   "cell_type": "markdown",
   "id": "92221bd0",
   "metadata": {},
   "source": [
    "### 2. Investigando as colunas e etendendo o conjunto de dados usando o head(), info() e shape"
   ]
  },
  {
   "cell_type": "code",
   "execution_count": 214,
   "id": "081ce544",
   "metadata": {},
   "outputs": [
    {
     "data": {
      "text/html": [
       "<div>\n",
       "<style scoped>\n",
       "    .dataframe tbody tr th:only-of-type {\n",
       "        vertical-align: middle;\n",
       "    }\n",
       "\n",
       "    .dataframe tbody tr th {\n",
       "        vertical-align: top;\n",
       "    }\n",
       "\n",
       "    .dataframe thead th {\n",
       "        text-align: right;\n",
       "    }\n",
       "</style>\n",
       "<table border=\"1\" class=\"dataframe\">\n",
       "  <thead>\n",
       "    <tr style=\"text-align: right;\">\n",
       "      <th></th>\n",
       "      <th>DATE</th>\n",
       "      <th>PRODUCT</th>\n",
       "      <th>REGION</th>\n",
       "      <th>STATE</th>\n",
       "      <th>CITY</th>\n",
       "      <th>NUMBER OF FUEL STATIONS SEARCHED</th>\n",
       "      <th>UNIT OF MEASUREMENT</th>\n",
       "      <th>RESALE AVERAGE PRICE</th>\n",
       "      <th>RESALE STANDARD DEVIATION</th>\n",
       "      <th>RESALE MINIMUM PRICE</th>\n",
       "      <th>RESALE MAXIMUM PRICE</th>\n",
       "      <th>DISTRIBUTION AVERAGE PRICE</th>\n",
       "      <th>DISTRIBUTION STANDARD DEVIATION</th>\n",
       "      <th>DISTRIBUTION MINIMUM PRICE</th>\n",
       "      <th>DISTRIBUTION MAXIMUM PRICE</th>\n",
       "    </tr>\n",
       "  </thead>\n",
       "  <tbody>\n",
       "    <tr>\n",
       "      <th>0</th>\n",
       "      <td>07/01/01</td>\n",
       "      <td>ETANOL HIDRATADO</td>\n",
       "      <td>CENTRO OESTE</td>\n",
       "      <td>DISTRITO FEDERAL</td>\n",
       "      <td>BRASILIA</td>\n",
       "      <td>515</td>\n",
       "      <td>R$/l</td>\n",
       "      <td>1,175</td>\n",
       "      <td>0,010</td>\n",
       "      <td>1,100</td>\n",
       "      <td>1,230</td>\n",
       "      <td>0,816</td>\n",
       "      <td>0,089</td>\n",
       "      <td>0,441</td>\n",
       "      <td>1,086</td>\n",
       "    </tr>\n",
       "    <tr>\n",
       "      <th>1</th>\n",
       "      <td>07/01/01</td>\n",
       "      <td>ETANOL HIDRATADO</td>\n",
       "      <td>CENTRO OESTE</td>\n",
       "      <td>GOIAS</td>\n",
       "      <td>GOIANIA</td>\n",
       "      <td>368</td>\n",
       "      <td>R$/l</td>\n",
       "      <td>0,971</td>\n",
       "      <td>0,049</td>\n",
       "      <td>0,809</td>\n",
       "      <td>1,180</td>\n",
       "      <td>0,759</td>\n",
       "      <td>0,076</td>\n",
       "      <td>0,500</td>\n",
       "      <td>0,953</td>\n",
       "    </tr>\n",
       "    <tr>\n",
       "      <th>2</th>\n",
       "      <td>07/01/01</td>\n",
       "      <td>ETANOL HIDRATADO</td>\n",
       "      <td>CENTRO OESTE</td>\n",
       "      <td>GOIAS</td>\n",
       "      <td>LUZIANIA</td>\n",
       "      <td>2</td>\n",
       "      <td>R$/l</td>\n",
       "      <td>1,320</td>\n",
       "      <td>0,240</td>\n",
       "      <td>1,150</td>\n",
       "      <td>1,490</td>\n",
       "      <td>0,692</td>\n",
       "      <td>0,000</td>\n",
       "      <td>0,692</td>\n",
       "      <td>0,692</td>\n",
       "    </tr>\n",
       "    <tr>\n",
       "      <th>3</th>\n",
       "      <td>07/01/01</td>\n",
       "      <td>ETANOL HIDRATADO</td>\n",
       "      <td>CENTRO OESTE</td>\n",
       "      <td>GOIAS</td>\n",
       "      <td>VALPARAISO DE GOIAS</td>\n",
       "      <td>7</td>\n",
       "      <td>R$/l</td>\n",
       "      <td>1,170</td>\n",
       "      <td>0,000</td>\n",
       "      <td>1,169</td>\n",
       "      <td>1,170</td>\n",
       "      <td>0,823</td>\n",
       "      <td>0,138</td>\n",
       "      <td>0,726</td>\n",
       "      <td>0,921</td>\n",
       "    </tr>\n",
       "    <tr>\n",
       "      <th>4</th>\n",
       "      <td>07/01/01</td>\n",
       "      <td>ETANOL HIDRATADO</td>\n",
       "      <td>CENTRO OESTE</td>\n",
       "      <td>MATO GROSSO</td>\n",
       "      <td>CUIABA</td>\n",
       "      <td>244</td>\n",
       "      <td>R$/l</td>\n",
       "      <td>1,033</td>\n",
       "      <td>0,120</td>\n",
       "      <td>0,807</td>\n",
       "      <td>1,290</td>\n",
       "      <td>0,831</td>\n",
       "      <td>0,113</td>\n",
       "      <td>0,612</td>\n",
       "      <td>1,100</td>\n",
       "    </tr>\n",
       "  </tbody>\n",
       "</table>\n",
       "</div>"
      ],
      "text/plain": [
       "       DATE           PRODUCT        REGION             STATE  \\\n",
       "0  07/01/01  ETANOL HIDRATADO  CENTRO OESTE  DISTRITO FEDERAL   \n",
       "1  07/01/01  ETANOL HIDRATADO  CENTRO OESTE             GOIAS   \n",
       "2  07/01/01  ETANOL HIDRATADO  CENTRO OESTE             GOIAS   \n",
       "3  07/01/01  ETANOL HIDRATADO  CENTRO OESTE             GOIAS   \n",
       "4  07/01/01  ETANOL HIDRATADO  CENTRO OESTE       MATO GROSSO   \n",
       "\n",
       "                  CITY  NUMBER OF FUEL STATIONS SEARCHED UNIT OF MEASUREMENT  \\\n",
       "0             BRASILIA                               515                R$/l   \n",
       "1              GOIANIA                               368                R$/l   \n",
       "2             LUZIANIA                                 2                R$/l   \n",
       "3  VALPARAISO DE GOIAS                                 7                R$/l   \n",
       "4               CUIABA                               244                R$/l   \n",
       "\n",
       "  RESALE AVERAGE PRICE RESALE STANDARD DEVIATION RESALE MINIMUM PRICE  \\\n",
       "0                1,175                     0,010                1,100   \n",
       "1                0,971                     0,049                0,809   \n",
       "2                1,320                     0,240                1,150   \n",
       "3                1,170                     0,000                1,169   \n",
       "4                1,033                     0,120                0,807   \n",
       "\n",
       "  RESALE MAXIMUM PRICE DISTRIBUTION AVERAGE PRICE  \\\n",
       "0                1,230                      0,816   \n",
       "1                1,180                      0,759   \n",
       "2                1,490                      0,692   \n",
       "3                1,170                      0,823   \n",
       "4                1,290                      0,831   \n",
       "\n",
       "  DISTRIBUTION STANDARD DEVIATION DISTRIBUTION MINIMUM PRICE  \\\n",
       "0                           0,089                      0,441   \n",
       "1                           0,076                      0,500   \n",
       "2                           0,000                      0,692   \n",
       "3                           0,138                      0,726   \n",
       "4                           0,113                      0,612   \n",
       "\n",
       "  DISTRIBUTION MAXIMUM PRICE  \n",
       "0                      1,086  \n",
       "1                      0,953  \n",
       "2                      0,692  \n",
       "3                      0,921  \n",
       "4                      1,100  "
      ]
     },
     "execution_count": 214,
     "metadata": {},
     "output_type": "execute_result"
    }
   ],
   "source": [
    "df.head()"
   ]
  },
  {
   "cell_type": "code",
   "execution_count": 215,
   "id": "317a0820",
   "metadata": {},
   "outputs": [
    {
     "name": "stdout",
     "output_type": "stream",
     "text": [
      "<class 'pandas.core.frame.DataFrame'>\n",
      "RangeIndex: 563420 entries, 0 to 563419\n",
      "Data columns (total 15 columns):\n",
      " #   Column                            Non-Null Count   Dtype \n",
      "---  ------                            --------------   ----- \n",
      " 0   DATE                              563420 non-null  object\n",
      " 1   PRODUCT                           563420 non-null  object\n",
      " 2   REGION                            563420 non-null  object\n",
      " 3   STATE                             563420 non-null  object\n",
      " 4   CITY                              563420 non-null  object\n",
      " 5   NUMBER OF FUEL STATIONS SEARCHED  563420 non-null  int64 \n",
      " 6   UNIT OF MEASUREMENT               563420 non-null  object\n",
      " 7   RESALE AVERAGE PRICE              563420 non-null  object\n",
      " 8   RESALE STANDARD DEVIATION         563420 non-null  object\n",
      " 9   RESALE MINIMUM PRICE              563420 non-null  object\n",
      " 10  RESALE MAXIMUM PRICE              563420 non-null  object\n",
      " 11  DISTRIBUTION AVERAGE PRICE        563420 non-null  object\n",
      " 12  DISTRIBUTION STANDARD DEVIATION   563420 non-null  object\n",
      " 13  DISTRIBUTION MINIMUM PRICE        563420 non-null  object\n",
      " 14  DISTRIBUTION MAXIMUM PRICE        563420 non-null  object\n",
      "dtypes: int64(1), object(14)\n",
      "memory usage: 64.5+ MB\n"
     ]
    }
   ],
   "source": [
    "df.info()"
   ]
  },
  {
   "cell_type": "markdown",
   "id": "96a89e48",
   "metadata": {},
   "source": [
    " - Foi verifiado os tipos das colunas, e ja foi chamando a atenção na coluna \"DATE\" que vai ser preciso fazer a conversão para \"DATETIME\""
   ]
  },
  {
   "cell_type": "code",
   "execution_count": 255,
   "id": "35eac0c7",
   "metadata": {},
   "outputs": [
    {
     "data": {
      "text/plain": [
       "(563420, 16)"
      ]
     },
     "execution_count": 255,
     "metadata": {},
     "output_type": "execute_result"
    }
   ],
   "source": [
    "df.shape"
   ]
  },
  {
   "cell_type": "markdown",
   "id": "38fd4824",
   "metadata": {},
   "source": [
    "### 3. Analisando algumas entradas especificas da coluna DATE"
   ]
  },
  {
   "cell_type": "code",
   "execution_count": 216,
   "id": "a2bc01b2",
   "metadata": {},
   "outputs": [
    {
     "data": {
      "text/plain": [
       "str"
      ]
     },
     "execution_count": 216,
     "metadata": {},
     "output_type": "execute_result"
    }
   ],
   "source": [
    "type(df['DATE'][2])"
   ]
  },
  {
   "cell_type": "markdown",
   "id": "a4a8e7d7",
   "metadata": {},
   "source": [
    "### 4. Foi percebido que a coluna DATE  esta formatada como string. Utilizando o método pd.to_datetime(), converto a coluna para Timestamp / Datetime."
   ]
  },
  {
   "cell_type": "code",
   "execution_count": 217,
   "id": "2c43c00c",
   "metadata": {},
   "outputs": [
    {
     "data": {
      "text/plain": [
       "pandas._libs.tslibs.timestamps.Timestamp"
      ]
     },
     "execution_count": 217,
     "metadata": {},
     "output_type": "execute_result"
    }
   ],
   "source": [
    "df['DATE'] = pd.to_datetime(df['DATE'])\n",
    "type(df['DATE'][2])\n"
   ]
  },
  {
   "cell_type": "code",
   "execution_count": 218,
   "id": "bb6ea106",
   "metadata": {},
   "outputs": [],
   "source": [
    "df['YEAR'] = df['DATE'].dt.year"
   ]
  },
  {
   "cell_type": "markdown",
   "id": "528bc950",
   "metadata": {},
   "source": [
    "- foi criado uma nova coluna com a infomações ano para facilitar a análise em alguns pontos."
   ]
  },
  {
   "cell_type": "code",
   "execution_count": 219,
   "id": "e86480b6",
   "metadata": {},
   "outputs": [
    {
     "data": {
      "text/html": [
       "<div>\n",
       "<style scoped>\n",
       "    .dataframe tbody tr th:only-of-type {\n",
       "        vertical-align: middle;\n",
       "    }\n",
       "\n",
       "    .dataframe tbody tr th {\n",
       "        vertical-align: top;\n",
       "    }\n",
       "\n",
       "    .dataframe thead th {\n",
       "        text-align: right;\n",
       "    }\n",
       "</style>\n",
       "<table border=\"1\" class=\"dataframe\">\n",
       "  <thead>\n",
       "    <tr style=\"text-align: right;\">\n",
       "      <th></th>\n",
       "      <th>DATE</th>\n",
       "      <th>PRODUCT</th>\n",
       "      <th>REGION</th>\n",
       "      <th>STATE</th>\n",
       "      <th>CITY</th>\n",
       "      <th>NUMBER OF FUEL STATIONS SEARCHED</th>\n",
       "      <th>UNIT OF MEASUREMENT</th>\n",
       "      <th>RESALE AVERAGE PRICE</th>\n",
       "      <th>RESALE STANDARD DEVIATION</th>\n",
       "      <th>RESALE MINIMUM PRICE</th>\n",
       "      <th>RESALE MAXIMUM PRICE</th>\n",
       "      <th>DISTRIBUTION AVERAGE PRICE</th>\n",
       "      <th>DISTRIBUTION STANDARD DEVIATION</th>\n",
       "      <th>DISTRIBUTION MINIMUM PRICE</th>\n",
       "      <th>DISTRIBUTION MAXIMUM PRICE</th>\n",
       "      <th>YEAR</th>\n",
       "    </tr>\n",
       "  </thead>\n",
       "  <tbody>\n",
       "    <tr>\n",
       "      <th>0</th>\n",
       "      <td>2001-07-01</td>\n",
       "      <td>ETANOL HIDRATADO</td>\n",
       "      <td>CENTRO OESTE</td>\n",
       "      <td>DISTRITO FEDERAL</td>\n",
       "      <td>BRASILIA</td>\n",
       "      <td>515</td>\n",
       "      <td>R$/l</td>\n",
       "      <td>1,175</td>\n",
       "      <td>0,010</td>\n",
       "      <td>1,100</td>\n",
       "      <td>1,230</td>\n",
       "      <td>0,816</td>\n",
       "      <td>0,089</td>\n",
       "      <td>0,441</td>\n",
       "      <td>1,086</td>\n",
       "      <td>2001</td>\n",
       "    </tr>\n",
       "    <tr>\n",
       "      <th>1</th>\n",
       "      <td>2001-07-01</td>\n",
       "      <td>ETANOL HIDRATADO</td>\n",
       "      <td>CENTRO OESTE</td>\n",
       "      <td>GOIAS</td>\n",
       "      <td>GOIANIA</td>\n",
       "      <td>368</td>\n",
       "      <td>R$/l</td>\n",
       "      <td>0,971</td>\n",
       "      <td>0,049</td>\n",
       "      <td>0,809</td>\n",
       "      <td>1,180</td>\n",
       "      <td>0,759</td>\n",
       "      <td>0,076</td>\n",
       "      <td>0,500</td>\n",
       "      <td>0,953</td>\n",
       "      <td>2001</td>\n",
       "    </tr>\n",
       "    <tr>\n",
       "      <th>2</th>\n",
       "      <td>2001-07-01</td>\n",
       "      <td>ETANOL HIDRATADO</td>\n",
       "      <td>CENTRO OESTE</td>\n",
       "      <td>GOIAS</td>\n",
       "      <td>LUZIANIA</td>\n",
       "      <td>2</td>\n",
       "      <td>R$/l</td>\n",
       "      <td>1,320</td>\n",
       "      <td>0,240</td>\n",
       "      <td>1,150</td>\n",
       "      <td>1,490</td>\n",
       "      <td>0,692</td>\n",
       "      <td>0,000</td>\n",
       "      <td>0,692</td>\n",
       "      <td>0,692</td>\n",
       "      <td>2001</td>\n",
       "    </tr>\n",
       "    <tr>\n",
       "      <th>3</th>\n",
       "      <td>2001-07-01</td>\n",
       "      <td>ETANOL HIDRATADO</td>\n",
       "      <td>CENTRO OESTE</td>\n",
       "      <td>GOIAS</td>\n",
       "      <td>VALPARAISO DE GOIAS</td>\n",
       "      <td>7</td>\n",
       "      <td>R$/l</td>\n",
       "      <td>1,170</td>\n",
       "      <td>0,000</td>\n",
       "      <td>1,169</td>\n",
       "      <td>1,170</td>\n",
       "      <td>0,823</td>\n",
       "      <td>0,138</td>\n",
       "      <td>0,726</td>\n",
       "      <td>0,921</td>\n",
       "      <td>2001</td>\n",
       "    </tr>\n",
       "    <tr>\n",
       "      <th>4</th>\n",
       "      <td>2001-07-01</td>\n",
       "      <td>ETANOL HIDRATADO</td>\n",
       "      <td>CENTRO OESTE</td>\n",
       "      <td>MATO GROSSO</td>\n",
       "      <td>CUIABA</td>\n",
       "      <td>244</td>\n",
       "      <td>R$/l</td>\n",
       "      <td>1,033</td>\n",
       "      <td>0,120</td>\n",
       "      <td>0,807</td>\n",
       "      <td>1,290</td>\n",
       "      <td>0,831</td>\n",
       "      <td>0,113</td>\n",
       "      <td>0,612</td>\n",
       "      <td>1,100</td>\n",
       "      <td>2001</td>\n",
       "    </tr>\n",
       "  </tbody>\n",
       "</table>\n",
       "</div>"
      ],
      "text/plain": [
       "        DATE           PRODUCT        REGION             STATE  \\\n",
       "0 2001-07-01  ETANOL HIDRATADO  CENTRO OESTE  DISTRITO FEDERAL   \n",
       "1 2001-07-01  ETANOL HIDRATADO  CENTRO OESTE             GOIAS   \n",
       "2 2001-07-01  ETANOL HIDRATADO  CENTRO OESTE             GOIAS   \n",
       "3 2001-07-01  ETANOL HIDRATADO  CENTRO OESTE             GOIAS   \n",
       "4 2001-07-01  ETANOL HIDRATADO  CENTRO OESTE       MATO GROSSO   \n",
       "\n",
       "                  CITY  NUMBER OF FUEL STATIONS SEARCHED UNIT OF MEASUREMENT  \\\n",
       "0             BRASILIA                               515                R$/l   \n",
       "1              GOIANIA                               368                R$/l   \n",
       "2             LUZIANIA                                 2                R$/l   \n",
       "3  VALPARAISO DE GOIAS                                 7                R$/l   \n",
       "4               CUIABA                               244                R$/l   \n",
       "\n",
       "  RESALE AVERAGE PRICE RESALE STANDARD DEVIATION RESALE MINIMUM PRICE  \\\n",
       "0                1,175                     0,010                1,100   \n",
       "1                0,971                     0,049                0,809   \n",
       "2                1,320                     0,240                1,150   \n",
       "3                1,170                     0,000                1,169   \n",
       "4                1,033                     0,120                0,807   \n",
       "\n",
       "  RESALE MAXIMUM PRICE DISTRIBUTION AVERAGE PRICE  \\\n",
       "0                1,230                      0,816   \n",
       "1                1,180                      0,759   \n",
       "2                1,490                      0,692   \n",
       "3                1,170                      0,823   \n",
       "4                1,290                      0,831   \n",
       "\n",
       "  DISTRIBUTION STANDARD DEVIATION DISTRIBUTION MINIMUM PRICE  \\\n",
       "0                           0,089                      0,441   \n",
       "1                           0,076                      0,500   \n",
       "2                           0,000                      0,692   \n",
       "3                           0,138                      0,726   \n",
       "4                           0,113                      0,612   \n",
       "\n",
       "  DISTRIBUTION MAXIMUM PRICE  YEAR  \n",
       "0                      1,086  2001  \n",
       "1                      0,953  2001  \n",
       "2                      0,692  2001  \n",
       "3                      0,921  2001  \n",
       "4                      1,100  2001  "
      ]
     },
     "execution_count": 219,
     "metadata": {},
     "output_type": "execute_result"
    }
   ],
   "source": [
    "df.head(5)"
   ]
  },
  {
   "cell_type": "markdown",
   "id": "d0e8ab34",
   "metadata": {},
   "source": [
    "### 5. Utilizando o value_counts(), listei todos os tipos de produtos contidos na base de dados."
   ]
  },
  {
   "cell_type": "code",
   "execution_count": 221,
   "id": "2e926f26",
   "metadata": {},
   "outputs": [
    {
     "data": {
      "text/plain": [
       "GASOLINA COMUM        121264\n",
       "ETANOL HIDRATADO      118712\n",
       "GLP                   118305\n",
       "ÓLEO DIESEL            70860\n",
       "OLEO DIESEL S10        49736\n",
       "OLEO DIESEL            48544\n",
       "GNV                    31265\n",
       "GASOLINA ADITIVADA      4734\n",
       "Name: PRODUCT, dtype: int64"
      ]
     },
     "execution_count": 221,
     "metadata": {},
     "output_type": "execute_result"
    }
   ],
   "source": [
    "df['PRODUCT'].value_counts()"
   ]
  },
  {
   "cell_type": "markdown",
   "id": "da1f782c",
   "metadata": {},
   "source": [
    "- Irei analisar o produto 'ETANOL HIDRATADO'"
   ]
  },
  {
   "cell_type": "code",
   "execution_count": 222,
   "id": "d372757b",
   "metadata": {},
   "outputs": [],
   "source": [
    "df['RESALE AVERAGE PRICE'] = df['RESALE AVERAGE PRICE'].replace(',', '.', regex=True)\n",
    "df['RESALE STANDARD DEVIATION'] = df['RESALE STANDARD DEVIATION'].replace(',', '.', regex=True)\n",
    "df['RESALE MINIMUM PRICE'] = df['RESALE MINIMUM PRICE'].replace(',', '.', regex=True)\n",
    "\n"
   ]
  },
  {
   "cell_type": "markdown",
   "id": "a7ab70d4",
   "metadata": {},
   "source": [
    "- Fazendo a substituição das virgulas por pontos para poder fazer a conversão de string para float logo em seguida."
   ]
  },
  {
   "cell_type": "code",
   "execution_count": 223,
   "id": "a2a228a9",
   "metadata": {},
   "outputs": [],
   "source": [
    "\n",
    "df['RESALE AVERAGE PRICE'] = df['RESALE AVERAGE PRICE'].astype(float)\n",
    "df['RESALE STANDARD DEVIATION'] = df['RESALE STANDARD DEVIATION'].astype(float)\n",
    "df['RESALE MINIMUM PRICE'] = df['RESALE MINIMUM PRICE'].astype(float)"
   ]
  },
  {
   "cell_type": "code",
   "execution_count": 224,
   "id": "e6645804",
   "metadata": {},
   "outputs": [
    {
     "name": "stdout",
     "output_type": "stream",
     "text": [
      "<class 'pandas.core.frame.DataFrame'>\n",
      "RangeIndex: 563420 entries, 0 to 563419\n",
      "Data columns (total 16 columns):\n",
      " #   Column                            Non-Null Count   Dtype         \n",
      "---  ------                            --------------   -----         \n",
      " 0   DATE                              563420 non-null  datetime64[ns]\n",
      " 1   PRODUCT                           563420 non-null  object        \n",
      " 2   REGION                            563420 non-null  object        \n",
      " 3   STATE                             563420 non-null  object        \n",
      " 4   CITY                              563420 non-null  object        \n",
      " 5   NUMBER OF FUEL STATIONS SEARCHED  563420 non-null  int64         \n",
      " 6   UNIT OF MEASUREMENT               563420 non-null  object        \n",
      " 7   RESALE AVERAGE PRICE              563420 non-null  float64       \n",
      " 8   RESALE STANDARD DEVIATION         563420 non-null  float64       \n",
      " 9   RESALE MINIMUM PRICE              563420 non-null  float64       \n",
      " 10  RESALE MAXIMUM PRICE              563420 non-null  object        \n",
      " 11  DISTRIBUTION AVERAGE PRICE        563420 non-null  object        \n",
      " 12  DISTRIBUTION STANDARD DEVIATION   563420 non-null  object        \n",
      " 13  DISTRIBUTION MINIMUM PRICE        563420 non-null  object        \n",
      " 14  DISTRIBUTION MAXIMUM PRICE        563420 non-null  object        \n",
      " 15  YEAR                              563420 non-null  int64         \n",
      "dtypes: datetime64[ns](1), float64(3), int64(2), object(10)\n",
      "memory usage: 68.8+ MB\n"
     ]
    }
   ],
   "source": [
    "df.info()"
   ]
  },
  {
   "cell_type": "markdown",
   "id": "c5559db7",
   "metadata": {},
   "source": [
    "- Feito a conversão, foi usado o info() para verificar se tudo saiu nos conformes"
   ]
  },
  {
   "cell_type": "markdown",
   "id": "a6d5f2c8",
   "metadata": {},
   "source": [
    "### 6. Filtrando o DataFrame para obter apenas dados do 'ETANOL HIDRATADO' e gravando em uma nova variavel."
   ]
  },
  {
   "cell_type": "code",
   "execution_count": 226,
   "id": "1e0c0483",
   "metadata": {
    "scrolled": true
   },
   "outputs": [
    {
     "data": {
      "text/html": [
       "<div>\n",
       "<style scoped>\n",
       "    .dataframe tbody tr th:only-of-type {\n",
       "        vertical-align: middle;\n",
       "    }\n",
       "\n",
       "    .dataframe tbody tr th {\n",
       "        vertical-align: top;\n",
       "    }\n",
       "\n",
       "    .dataframe thead th {\n",
       "        text-align: right;\n",
       "    }\n",
       "</style>\n",
       "<table border=\"1\" class=\"dataframe\">\n",
       "  <thead>\n",
       "    <tr style=\"text-align: right;\">\n",
       "      <th></th>\n",
       "      <th>DATE</th>\n",
       "      <th>PRODUCT</th>\n",
       "      <th>REGION</th>\n",
       "      <th>STATE</th>\n",
       "      <th>CITY</th>\n",
       "      <th>NUMBER OF FUEL STATIONS SEARCHED</th>\n",
       "      <th>UNIT OF MEASUREMENT</th>\n",
       "      <th>RESALE AVERAGE PRICE</th>\n",
       "      <th>RESALE STANDARD DEVIATION</th>\n",
       "      <th>RESALE MINIMUM PRICE</th>\n",
       "      <th>RESALE MAXIMUM PRICE</th>\n",
       "      <th>DISTRIBUTION AVERAGE PRICE</th>\n",
       "      <th>DISTRIBUTION STANDARD DEVIATION</th>\n",
       "      <th>DISTRIBUTION MINIMUM PRICE</th>\n",
       "      <th>DISTRIBUTION MAXIMUM PRICE</th>\n",
       "      <th>YEAR</th>\n",
       "    </tr>\n",
       "  </thead>\n",
       "  <tbody>\n",
       "    <tr>\n",
       "      <th>0</th>\n",
       "      <td>2001-07-01</td>\n",
       "      <td>ETANOL HIDRATADO</td>\n",
       "      <td>CENTRO OESTE</td>\n",
       "      <td>DISTRITO FEDERAL</td>\n",
       "      <td>BRASILIA</td>\n",
       "      <td>515</td>\n",
       "      <td>R$/l</td>\n",
       "      <td>1.175</td>\n",
       "      <td>0.010</td>\n",
       "      <td>1.100</td>\n",
       "      <td>1,230</td>\n",
       "      <td>0,816</td>\n",
       "      <td>0,089</td>\n",
       "      <td>0,441</td>\n",
       "      <td>1,086</td>\n",
       "      <td>2001</td>\n",
       "    </tr>\n",
       "    <tr>\n",
       "      <th>1</th>\n",
       "      <td>2001-07-01</td>\n",
       "      <td>ETANOL HIDRATADO</td>\n",
       "      <td>CENTRO OESTE</td>\n",
       "      <td>GOIAS</td>\n",
       "      <td>GOIANIA</td>\n",
       "      <td>368</td>\n",
       "      <td>R$/l</td>\n",
       "      <td>0.971</td>\n",
       "      <td>0.049</td>\n",
       "      <td>0.809</td>\n",
       "      <td>1,180</td>\n",
       "      <td>0,759</td>\n",
       "      <td>0,076</td>\n",
       "      <td>0,500</td>\n",
       "      <td>0,953</td>\n",
       "      <td>2001</td>\n",
       "    </tr>\n",
       "    <tr>\n",
       "      <th>2</th>\n",
       "      <td>2001-07-01</td>\n",
       "      <td>ETANOL HIDRATADO</td>\n",
       "      <td>CENTRO OESTE</td>\n",
       "      <td>GOIAS</td>\n",
       "      <td>LUZIANIA</td>\n",
       "      <td>2</td>\n",
       "      <td>R$/l</td>\n",
       "      <td>1.320</td>\n",
       "      <td>0.240</td>\n",
       "      <td>1.150</td>\n",
       "      <td>1,490</td>\n",
       "      <td>0,692</td>\n",
       "      <td>0,000</td>\n",
       "      <td>0,692</td>\n",
       "      <td>0,692</td>\n",
       "      <td>2001</td>\n",
       "    </tr>\n",
       "    <tr>\n",
       "      <th>3</th>\n",
       "      <td>2001-07-01</td>\n",
       "      <td>ETANOL HIDRATADO</td>\n",
       "      <td>CENTRO OESTE</td>\n",
       "      <td>GOIAS</td>\n",
       "      <td>VALPARAISO DE GOIAS</td>\n",
       "      <td>7</td>\n",
       "      <td>R$/l</td>\n",
       "      <td>1.170</td>\n",
       "      <td>0.000</td>\n",
       "      <td>1.169</td>\n",
       "      <td>1,170</td>\n",
       "      <td>0,823</td>\n",
       "      <td>0,138</td>\n",
       "      <td>0,726</td>\n",
       "      <td>0,921</td>\n",
       "      <td>2001</td>\n",
       "    </tr>\n",
       "    <tr>\n",
       "      <th>4</th>\n",
       "      <td>2001-07-01</td>\n",
       "      <td>ETANOL HIDRATADO</td>\n",
       "      <td>CENTRO OESTE</td>\n",
       "      <td>MATO GROSSO</td>\n",
       "      <td>CUIABA</td>\n",
       "      <td>244</td>\n",
       "      <td>R$/l</td>\n",
       "      <td>1.033</td>\n",
       "      <td>0.120</td>\n",
       "      <td>0.807</td>\n",
       "      <td>1,290</td>\n",
       "      <td>0,831</td>\n",
       "      <td>0,113</td>\n",
       "      <td>0,612</td>\n",
       "      <td>1,100</td>\n",
       "      <td>2001</td>\n",
       "    </tr>\n",
       "  </tbody>\n",
       "</table>\n",
       "</div>"
      ],
      "text/plain": [
       "        DATE           PRODUCT        REGION             STATE  \\\n",
       "0 2001-07-01  ETANOL HIDRATADO  CENTRO OESTE  DISTRITO FEDERAL   \n",
       "1 2001-07-01  ETANOL HIDRATADO  CENTRO OESTE             GOIAS   \n",
       "2 2001-07-01  ETANOL HIDRATADO  CENTRO OESTE             GOIAS   \n",
       "3 2001-07-01  ETANOL HIDRATADO  CENTRO OESTE             GOIAS   \n",
       "4 2001-07-01  ETANOL HIDRATADO  CENTRO OESTE       MATO GROSSO   \n",
       "\n",
       "                  CITY  NUMBER OF FUEL STATIONS SEARCHED UNIT OF MEASUREMENT  \\\n",
       "0             BRASILIA                               515                R$/l   \n",
       "1              GOIANIA                               368                R$/l   \n",
       "2             LUZIANIA                                 2                R$/l   \n",
       "3  VALPARAISO DE GOIAS                                 7                R$/l   \n",
       "4               CUIABA                               244                R$/l   \n",
       "\n",
       "   RESALE AVERAGE PRICE  RESALE STANDARD DEVIATION  RESALE MINIMUM PRICE  \\\n",
       "0                 1.175                      0.010                 1.100   \n",
       "1                 0.971                      0.049                 0.809   \n",
       "2                 1.320                      0.240                 1.150   \n",
       "3                 1.170                      0.000                 1.169   \n",
       "4                 1.033                      0.120                 0.807   \n",
       "\n",
       "  RESALE MAXIMUM PRICE DISTRIBUTION AVERAGE PRICE  \\\n",
       "0                1,230                      0,816   \n",
       "1                1,180                      0,759   \n",
       "2                1,490                      0,692   \n",
       "3                1,170                      0,823   \n",
       "4                1,290                      0,831   \n",
       "\n",
       "  DISTRIBUTION STANDARD DEVIATION DISTRIBUTION MINIMUM PRICE  \\\n",
       "0                           0,089                      0,441   \n",
       "1                           0,076                      0,500   \n",
       "2                           0,000                      0,692   \n",
       "3                           0,138                      0,726   \n",
       "4                           0,113                      0,612   \n",
       "\n",
       "  DISTRIBUTION MAXIMUM PRICE  YEAR  \n",
       "0                      1,086  2001  \n",
       "1                      0,953  2001  \n",
       "2                      0,692  2001  \n",
       "3                      0,921  2001  \n",
       "4                      1,100  2001  "
      ]
     },
     "execution_count": 226,
     "metadata": {},
     "output_type": "execute_result"
    }
   ],
   "source": [
    "df_filtro = df['PRODUCT'] == 'ETANOL HIDRATADO'\n",
    "df2 = df[df_filtro]\n",
    "df2.head()"
   ]
  },
  {
   "cell_type": "code",
   "execution_count": 227,
   "id": "9c493f49",
   "metadata": {},
   "outputs": [
    {
     "data": {
      "text/plain": [
       "(118712, 16)"
      ]
     },
     "execution_count": 227,
     "metadata": {},
     "output_type": "execute_result"
    }
   ],
   "source": [
    "df2.shape"
   ]
  },
  {
   "cell_type": "markdown",
   "id": "bed57bdd",
   "metadata": {},
   "source": [
    "- Olhando a primeira verificação do shape o resultado foi de 563420 linhas, e filtrando apenas para o produto \"etanol hidratado\"  Obtivermos a quantidade de 118712 linhas "
   ]
  },
  {
   "cell_type": "markdown",
   "id": "da571bf8",
   "metadata": {},
   "source": [
    "### 7. Qual o preço médio de revenda da ETANOL HIDRATADO em agosto de 2008?"
   ]
  },
  {
   "cell_type": "code",
   "execution_count": 229,
   "id": "0f48fa83",
   "metadata": {},
   "outputs": [
    {
     "data": {
      "text/plain": [
       "1.6703007380073798"
      ]
     },
     "execution_count": 229,
     "metadata": {},
     "output_type": "execute_result"
    }
   ],
   "source": [
    "df2[df2['DATE'] == '2008-08-01']['RESALE AVERAGE PRICE'].mean()"
   ]
  },
  {
   "cell_type": "markdown",
   "id": "452774ad",
   "metadata": {},
   "source": [
    "### 8. Qual o preço médio de revenda da etanol hidratado no ano de  2021 em São Paulo?"
   ]
  },
  {
   "cell_type": "code",
   "execution_count": 230,
   "id": "abf55b09",
   "metadata": {},
   "outputs": [
    {
     "data": {
      "text/plain": [
       "4.294539170506912"
      ]
     },
     "execution_count": 230,
     "metadata": {},
     "output_type": "execute_result"
    }
   ],
   "source": [
    "df2[(df2['DATE'].dt.strftime('%Y').str.contains('2021')) & (df2['STATE'] == 'SAO PAULO')]['RESALE AVERAGE PRICE'].mean()\n"
   ]
  },
  {
   "cell_type": "markdown",
   "id": "08c4e45b",
   "metadata": {},
   "source": [
    "- Foi usado o .dt.strftime('%Y').str.contains('2014') para fazer um filtro em 2014, o metodo \"str.contains\" não funciona em valores datetime\n"
   ]
  },
  {
   "cell_type": "markdown",
   "id": "e4bf583e",
   "metadata": {},
   "source": [
    "### 9. Em qual(quais) estado(s) o etanol hidratado ultrapassou a barreira dos R$ 4,00? E quando isso ocorreu?"
   ]
  },
  {
   "cell_type": "code",
   "execution_count": 231,
   "id": "849c7871",
   "metadata": {},
   "outputs": [
    {
     "data": {
      "text/html": [
       "<div>\n",
       "<style scoped>\n",
       "    .dataframe tbody tr th:only-of-type {\n",
       "        vertical-align: middle;\n",
       "    }\n",
       "\n",
       "    .dataframe tbody tr th {\n",
       "        vertical-align: top;\n",
       "    }\n",
       "\n",
       "    .dataframe thead th {\n",
       "        text-align: right;\n",
       "    }\n",
       "</style>\n",
       "<table border=\"1\" class=\"dataframe\">\n",
       "  <thead>\n",
       "    <tr style=\"text-align: right;\">\n",
       "      <th></th>\n",
       "      <th>STATE</th>\n",
       "      <th>DATE</th>\n",
       "      <th>RESALE AVERAGE PRICE</th>\n",
       "    </tr>\n",
       "  </thead>\n",
       "  <tbody>\n",
       "    <tr>\n",
       "      <th>401558</th>\n",
       "      <td>PARA</td>\n",
       "      <td>2016-03-01</td>\n",
       "      <td>4.093</td>\n",
       "    </tr>\n",
       "    <tr>\n",
       "      <th>404198</th>\n",
       "      <td>PARA</td>\n",
       "      <td>2016-04-01</td>\n",
       "      <td>4.104</td>\n",
       "    </tr>\n",
       "    <tr>\n",
       "      <th>406829</th>\n",
       "      <td>PARA</td>\n",
       "      <td>2016-05-01</td>\n",
       "      <td>4.020</td>\n",
       "    </tr>\n",
       "    <tr>\n",
       "      <th>422209</th>\n",
       "      <td>RIO GRANDE DO SUL</td>\n",
       "      <td>2016-11-01</td>\n",
       "      <td>4.059</td>\n",
       "    </tr>\n",
       "    <tr>\n",
       "      <th>422307</th>\n",
       "      <td>ACRE</td>\n",
       "      <td>2016-11-01</td>\n",
       "      <td>4.030</td>\n",
       "    </tr>\n",
       "    <tr>\n",
       "      <th>424831</th>\n",
       "      <td>RIO GRANDE DO SUL</td>\n",
       "      <td>2016-12-01</td>\n",
       "      <td>4.139</td>\n",
       "    </tr>\n",
       "    <tr>\n",
       "      <th>424929</th>\n",
       "      <td>ACRE</td>\n",
       "      <td>2016-12-01</td>\n",
       "      <td>4.030</td>\n",
       "    </tr>\n",
       "    <tr>\n",
       "      <th>425039</th>\n",
       "      <td>RIO GRANDE DO SUL</td>\n",
       "      <td>2016-12-01</td>\n",
       "      <td>4.095</td>\n",
       "    </tr>\n",
       "    <tr>\n",
       "      <th>425194</th>\n",
       "      <td>RIO GRANDE DO SUL</td>\n",
       "      <td>2016-12-01</td>\n",
       "      <td>4.015</td>\n",
       "    </tr>\n",
       "    <tr>\n",
       "      <th>427446</th>\n",
       "      <td>RIO GRANDE DO SUL</td>\n",
       "      <td>2017-01-01</td>\n",
       "      <td>4.186</td>\n",
       "    </tr>\n",
       "    <tr>\n",
       "      <th>427544</th>\n",
       "      <td>ACRE</td>\n",
       "      <td>2017-01-01</td>\n",
       "      <td>4.012</td>\n",
       "    </tr>\n",
       "    <tr>\n",
       "      <th>427575</th>\n",
       "      <td>RIO GRANDE DO SUL</td>\n",
       "      <td>2017-01-01</td>\n",
       "      <td>4.023</td>\n",
       "    </tr>\n",
       "    <tr>\n",
       "      <th>427728</th>\n",
       "      <td>PARA</td>\n",
       "      <td>2017-01-01</td>\n",
       "      <td>4.009</td>\n",
       "    </tr>\n",
       "    <tr>\n",
       "      <th>427740</th>\n",
       "      <td>RIO GRANDE DO SUL</td>\n",
       "      <td>2017-01-01</td>\n",
       "      <td>4.048</td>\n",
       "    </tr>\n",
       "    <tr>\n",
       "      <th>427797</th>\n",
       "      <td>RIO GRANDE DO SUL</td>\n",
       "      <td>2017-01-01</td>\n",
       "      <td>4.080</td>\n",
       "    </tr>\n",
       "    <tr>\n",
       "      <th>427810</th>\n",
       "      <td>RIO GRANDE DO SUL</td>\n",
       "      <td>2017-01-01</td>\n",
       "      <td>4.054</td>\n",
       "    </tr>\n",
       "    <tr>\n",
       "      <th>427876</th>\n",
       "      <td>RIO GRANDE DO SUL</td>\n",
       "      <td>2017-01-01</td>\n",
       "      <td>4.128</td>\n",
       "    </tr>\n",
       "    <tr>\n",
       "      <th>430066</th>\n",
       "      <td>RIO GRANDE DO SUL</td>\n",
       "      <td>2017-02-01</td>\n",
       "      <td>4.254</td>\n",
       "    </tr>\n",
       "    <tr>\n",
       "      <th>430103</th>\n",
       "      <td>RIO GRANDE DO SUL</td>\n",
       "      <td>2017-02-01</td>\n",
       "      <td>4.022</td>\n",
       "    </tr>\n",
       "    <tr>\n",
       "      <th>430164</th>\n",
       "      <td>ACRE</td>\n",
       "      <td>2017-02-01</td>\n",
       "      <td>4.090</td>\n",
       "    </tr>\n",
       "  </tbody>\n",
       "</table>\n",
       "</div>"
      ],
      "text/plain": [
       "                    STATE       DATE  RESALE AVERAGE PRICE\n",
       "401558               PARA 2016-03-01                 4.093\n",
       "404198               PARA 2016-04-01                 4.104\n",
       "406829               PARA 2016-05-01                 4.020\n",
       "422209  RIO GRANDE DO SUL 2016-11-01                 4.059\n",
       "422307               ACRE 2016-11-01                 4.030\n",
       "424831  RIO GRANDE DO SUL 2016-12-01                 4.139\n",
       "424929               ACRE 2016-12-01                 4.030\n",
       "425039  RIO GRANDE DO SUL 2016-12-01                 4.095\n",
       "425194  RIO GRANDE DO SUL 2016-12-01                 4.015\n",
       "427446  RIO GRANDE DO SUL 2017-01-01                 4.186\n",
       "427544               ACRE 2017-01-01                 4.012\n",
       "427575  RIO GRANDE DO SUL 2017-01-01                 4.023\n",
       "427728               PARA 2017-01-01                 4.009\n",
       "427740  RIO GRANDE DO SUL 2017-01-01                 4.048\n",
       "427797  RIO GRANDE DO SUL 2017-01-01                 4.080\n",
       "427810  RIO GRANDE DO SUL 2017-01-01                 4.054\n",
       "427876  RIO GRANDE DO SUL 2017-01-01                 4.128\n",
       "430066  RIO GRANDE DO SUL 2017-02-01                 4.254\n",
       "430103  RIO GRANDE DO SUL 2017-02-01                 4.022\n",
       "430164               ACRE 2017-02-01                 4.090"
      ]
     },
     "execution_count": 231,
     "metadata": {},
     "output_type": "execute_result"
    }
   ],
   "source": [
    "df2[df2['RESALE AVERAGE PRICE'] > 4][['STATE', 'DATE', 'RESALE AVERAGE PRICE']].head(20)"
   ]
  },
  {
   "cell_type": "markdown",
   "id": "dbd3def6",
   "metadata": {},
   "source": [
    "### 10. Qual a média de preço por região em 2019?"
   ]
  },
  {
   "cell_type": "code",
   "execution_count": 232,
   "id": "1a953fd8",
   "metadata": {},
   "outputs": [
    {
     "data": {
      "text/plain": [
       "array(['CENTRO OESTE', 'NORDESTE', 'NORTE', 'SUDESTE', 'SUL'],\n",
       "      dtype=object)"
      ]
     },
     "execution_count": 232,
     "metadata": {},
     "output_type": "execute_result"
    }
   ],
   "source": [
    "df2['REGION'].unique()"
   ]
  },
  {
   "cell_type": "code",
   "execution_count": 258,
   "id": "f0ae3d35",
   "metadata": {},
   "outputs": [
    {
     "data": {
      "text/plain": [
       "3.580033464566926"
      ]
     },
     "execution_count": 258,
     "metadata": {},
     "output_type": "execute_result"
    }
   ],
   "source": [
    "df2[(df2['REGION'] == 'SUL') & (df2['DATE'].dt.strftime('%Y').str.contains('2019'))]['RESALE AVERAGE PRICE'].mean()"
   ]
  },
  {
   "cell_type": "code",
   "execution_count": 257,
   "id": "4a3dd16d",
   "metadata": {},
   "outputs": [
    {
     "data": {
      "text/plain": [
       "3.0540729166666694"
      ]
     },
     "execution_count": 257,
     "metadata": {},
     "output_type": "execute_result"
    }
   ],
   "source": [
    "df2[(df2['REGION'] == 'CENTRO OESTE') & (df2['DATE'].dt.strftime('%Y').str.contains('2019'))]['RESALE AVERAGE PRICE'].mean()"
   ]
  },
  {
   "cell_type": "code",
   "execution_count": 259,
   "id": "00c29da7",
   "metadata": {},
   "outputs": [
    {
     "data": {
      "text/plain": [
       "3.5420184372256367"
      ]
     },
     "execution_count": 259,
     "metadata": {},
     "output_type": "execute_result"
    }
   ],
   "source": [
    "df2[(df2['REGION'] == 'NORDESTE') & (df2['DATE'].dt.strftime('%Y').str.contains('2019'))]['RESALE AVERAGE PRICE'].mean()"
   ]
  },
  {
   "cell_type": "code",
   "execution_count": 260,
   "id": "c696b8d5",
   "metadata": {},
   "outputs": [
    {
     "data": {
      "text/plain": [
       "3.0468341346153873"
      ]
     },
     "execution_count": 260,
     "metadata": {},
     "output_type": "execute_result"
    }
   ],
   "source": [
    "df2[(df2['REGION'] == 'SUDESTE') & (df2['DATE'].dt.strftime('%Y').str.contains('2019'))]['RESALE AVERAGE PRICE'].mean()"
   ]
  },
  {
   "cell_type": "code",
   "execution_count": 261,
   "id": "937024c3",
   "metadata": {},
   "outputs": [
    {
     "data": {
      "text/plain": [
       "3.901776881720429"
      ]
     },
     "execution_count": 261,
     "metadata": {},
     "output_type": "execute_result"
    }
   ],
   "source": [
    "df2[(df2['REGION'] == 'NORTE') & (df2['DATE'].dt.strftime('%Y').str.contains('2019'))]['RESALE AVERAGE PRICE'].mean()"
   ]
  },
  {
   "attachments": {
    "image-2.png": {
     "image/png": "[encoded data removed]"
    }
   },
   "cell_type": "markdown",
   "id": "f27bdda3",
   "metadata": {},
   "source": [
    "![image-2.png](attachment:image-2.png)"
   ]
  },
  {
   "cell_type": "markdown",
   "id": "542bf7cd",
   "metadata": {},
   "source": [
    "- Analisando o gráfico podemos perceber que o Norte foi a região que teve o maior preço do etanol hidratado"
   ]
  },
  {
   "cell_type": "markdown",
   "id": "0288d0b5",
   "metadata": {},
   "source": [
    "### 11.  Uma tabela contendo a variação percentual ano a ano para o estado do Rio de Janeiro"
   ]
  },
  {
   "cell_type": "code",
   "execution_count": 236,
   "id": "d484b052",
   "metadata": {},
   "outputs": [],
   "source": [
    "# Filtrar o dataframe para selecionar apenas as observações referentes ao estado do Rio de Janeiro\n",
    "\n",
    "df_rj = df2[df2['STATE'] == 'RIO DE JANEIRO']"
   ]
  },
  {
   "cell_type": "markdown",
   "id": "7174001a",
   "metadata": {},
   "source": [
    "- Agrupar os dados por ano e calcular a média dos preços médios de revenda para cada ano:"
   ]
  },
  {
   "cell_type": "code",
   "execution_count": 237,
   "id": "a5e33b2a",
   "metadata": {},
   "outputs": [],
   "source": [
    "df_rj_grouped = df_rj.groupby('YEAR')['RESALE AVERAGE PRICE'].mean().reset_index()"
   ]
  },
  {
   "cell_type": "markdown",
   "id": "aa359ff9",
   "metadata": {},
   "source": [
    "- Calcular a variação percentual ano a ano a partir dos valores médios obtidos no passo anterior:"
   ]
  },
  {
   "cell_type": "code",
   "execution_count": 239,
   "id": "79c5c056",
   "metadata": {},
   "outputs": [],
   "source": [
    "df_rj_grouped['VARIAÇÃO %'] = df_rj_grouped['RESALE AVERAGE PRICE'].pct_change() * 100\n"
   ]
  },
  {
   "cell_type": "code",
   "execution_count": 245,
   "id": "ab536a37",
   "metadata": {},
   "outputs": [
    {
     "data": {
      "text/html": [
       "<div>\n",
       "<style scoped>\n",
       "    .dataframe tbody tr th:only-of-type {\n",
       "        vertical-align: middle;\n",
       "    }\n",
       "\n",
       "    .dataframe tbody tr th {\n",
       "        vertical-align: top;\n",
       "    }\n",
       "\n",
       "    .dataframe thead th {\n",
       "        text-align: right;\n",
       "    }\n",
       "</style>\n",
       "<table border=\"1\" class=\"dataframe\">\n",
       "  <thead>\n",
       "    <tr style=\"text-align: right;\">\n",
       "      <th></th>\n",
       "      <th>YEAR</th>\n",
       "      <th>RESALE AVERAGE PRICE</th>\n",
       "      <th>VARIAÇÃO %</th>\n",
       "    </tr>\n",
       "  </thead>\n",
       "  <tbody>\n",
       "    <tr>\n",
       "      <th>0</th>\n",
       "      <td>2001</td>\n",
       "      <td>1.068662</td>\n",
       "      <td>NaN</td>\n",
       "    </tr>\n",
       "    <tr>\n",
       "      <th>1</th>\n",
       "      <td>2002</td>\n",
       "      <td>1.085024</td>\n",
       "      <td>1.531016</td>\n",
       "    </tr>\n",
       "    <tr>\n",
       "      <th>2</th>\n",
       "      <td>2003</td>\n",
       "      <td>1.416940</td>\n",
       "      <td>30.590727</td>\n",
       "    </tr>\n",
       "    <tr>\n",
       "      <th>3</th>\n",
       "      <td>2004</td>\n",
       "      <td>1.310462</td>\n",
       "      <td>-7.514708</td>\n",
       "    </tr>\n",
       "    <tr>\n",
       "      <th>4</th>\n",
       "      <td>2005</td>\n",
       "      <td>1.581893</td>\n",
       "      <td>20.712627</td>\n",
       "    </tr>\n",
       "    <tr>\n",
       "      <th>5</th>\n",
       "      <td>2006</td>\n",
       "      <td>1.904893</td>\n",
       "      <td>20.418580</td>\n",
       "    </tr>\n",
       "    <tr>\n",
       "      <th>6</th>\n",
       "      <td>2007</td>\n",
       "      <td>1.728893</td>\n",
       "      <td>-9.239366</td>\n",
       "    </tr>\n",
       "    <tr>\n",
       "      <th>7</th>\n",
       "      <td>2008</td>\n",
       "      <td>1.707298</td>\n",
       "      <td>-1.249025</td>\n",
       "    </tr>\n",
       "    <tr>\n",
       "      <th>8</th>\n",
       "      <td>2009</td>\n",
       "      <td>1.729382</td>\n",
       "      <td>1.293476</td>\n",
       "    </tr>\n",
       "    <tr>\n",
       "      <th>9</th>\n",
       "      <td>2010</td>\n",
       "      <td>1.892057</td>\n",
       "      <td>9.406557</td>\n",
       "    </tr>\n",
       "    <tr>\n",
       "      <th>10</th>\n",
       "      <td>2011</td>\n",
       "      <td>2.254579</td>\n",
       "      <td>19.160219</td>\n",
       "    </tr>\n",
       "    <tr>\n",
       "      <th>11</th>\n",
       "      <td>2012</td>\n",
       "      <td>2.277116</td>\n",
       "      <td>0.999607</td>\n",
       "    </tr>\n",
       "    <tr>\n",
       "      <th>12</th>\n",
       "      <td>2013</td>\n",
       "      <td>2.334943</td>\n",
       "      <td>2.539473</td>\n",
       "    </tr>\n",
       "    <tr>\n",
       "      <th>13</th>\n",
       "      <td>2014</td>\n",
       "      <td>2.495050</td>\n",
       "      <td>6.857018</td>\n",
       "    </tr>\n",
       "    <tr>\n",
       "      <th>14</th>\n",
       "      <td>2015</td>\n",
       "      <td>2.759505</td>\n",
       "      <td>10.599169</td>\n",
       "    </tr>\n",
       "    <tr>\n",
       "      <th>15</th>\n",
       "      <td>2016</td>\n",
       "      <td>3.274290</td>\n",
       "      <td>18.654991</td>\n",
       "    </tr>\n",
       "    <tr>\n",
       "      <th>16</th>\n",
       "      <td>2017</td>\n",
       "      <td>3.360022</td>\n",
       "      <td>2.618330</td>\n",
       "    </tr>\n",
       "    <tr>\n",
       "      <th>17</th>\n",
       "      <td>2018</td>\n",
       "      <td>3.553396</td>\n",
       "      <td>5.755129</td>\n",
       "    </tr>\n",
       "    <tr>\n",
       "      <th>18</th>\n",
       "      <td>2019</td>\n",
       "      <td>3.836206</td>\n",
       "      <td>7.958863</td>\n",
       "    </tr>\n",
       "    <tr>\n",
       "      <th>19</th>\n",
       "      <td>2020</td>\n",
       "      <td>3.910469</td>\n",
       "      <td>1.935860</td>\n",
       "    </tr>\n",
       "    <tr>\n",
       "      <th>20</th>\n",
       "      <td>2021</td>\n",
       "      <td>5.431905</td>\n",
       "      <td>38.906727</td>\n",
       "    </tr>\n",
       "    <tr>\n",
       "      <th>21</th>\n",
       "      <td>2022</td>\n",
       "      <td>6.050255</td>\n",
       "      <td>11.383667</td>\n",
       "    </tr>\n",
       "  </tbody>\n",
       "</table>\n",
       "</div>"
      ],
      "text/plain": [
       "    YEAR  RESALE AVERAGE PRICE  VARIAÇÃO %\n",
       "0   2001              1.068662         NaN\n",
       "1   2002              1.085024    1.531016\n",
       "2   2003              1.416940   30.590727\n",
       "3   2004              1.310462   -7.514708\n",
       "4   2005              1.581893   20.712627\n",
       "5   2006              1.904893   20.418580\n",
       "6   2007              1.728893   -9.239366\n",
       "7   2008              1.707298   -1.249025\n",
       "8   2009              1.729382    1.293476\n",
       "9   2010              1.892057    9.406557\n",
       "10  2011              2.254579   19.160219\n",
       "11  2012              2.277116    0.999607\n",
       "12  2013              2.334943    2.539473\n",
       "13  2014              2.495050    6.857018\n",
       "14  2015              2.759505   10.599169\n",
       "15  2016              3.274290   18.654991\n",
       "16  2017              3.360022    2.618330\n",
       "17  2018              3.553396    5.755129\n",
       "18  2019              3.836206    7.958863\n",
       "19  2020              3.910469    1.935860\n",
       "20  2021              5.431905   38.906727\n",
       "21  2022              6.050255   11.383667"
      ]
     },
     "execution_count": 245,
     "metadata": {},
     "output_type": "execute_result"
    }
   ],
   "source": [
    "df_rj_grouped.head(22)"
   ]
  },
  {
   "attachments": {
    "image.png": {
     "image/png": "[encoded data removed]"
    }
   },
   "cell_type": "markdown",
   "id": "e1020a6b",
   "metadata": {},
   "source": [
    "![image.png](attachment:image.png)"
   ]
  },
  {
   "cell_type": "markdown",
   "id": "3dbab94c",
   "metadata": {},
   "source": [
    "### 12. uma tabela contendo uma serie temporal com a diferença absoluta e percentual entre os valores mais baratos e caros. Apresente também ao lado os estados na qual os maiores e menores preços foram registrados."
   ]
  },
  {
   "cell_type": "code",
   "execution_count": 247,
   "id": "353e3180",
   "metadata": {},
   "outputs": [],
   "source": [
    "df_max = df2.groupby('DATE').max()['RESALE AVERAGE PRICE']\n",
    "df_min = df2.groupby('DATE').min()['RESALE AVERAGE PRICE']"
   ]
  },
  {
   "cell_type": "code",
   "execution_count": 248,
   "id": "cac74a10",
   "metadata": {},
   "outputs": [],
   "source": [
    "idx_max = df2.groupby('DATE')['RESALE AVERAGE PRICE'].idxmax()\n",
    "idx_min = df2.groupby('DATE')['RESALE AVERAGE PRICE'].idxmin()"
   ]
  },
  {
   "cell_type": "code",
   "execution_count": 249,
   "id": "0a55a70c",
   "metadata": {},
   "outputs": [],
   "source": [
    "df_diff = pd.DataFrame()"
   ]
  },
  {
   "cell_type": "code",
   "execution_count": 250,
   "id": "a02a060f",
   "metadata": {},
   "outputs": [],
   "source": [
    "df_diff['max'] = df_max\n",
    "df_diff['min'] = df_min"
   ]
  },
  {
   "cell_type": "code",
   "execution_count": 251,
   "id": "f9b71deb",
   "metadata": {},
   "outputs": [],
   "source": [
    "df_diff['STATE_MAX'] = df2.loc[idx_max, :]['STATE'].values\n",
    "df_diff['STATE_MIN'] = df2.loc[idx_min, :]['STATE'].values"
   ]
  },
  {
   "cell_type": "code",
   "execution_count": 252,
   "id": "ca9f8d57",
   "metadata": {},
   "outputs": [
    {
     "data": {
      "text/html": [
       "<div>\n",
       "<style scoped>\n",
       "    .dataframe tbody tr th:only-of-type {\n",
       "        vertical-align: middle;\n",
       "    }\n",
       "\n",
       "    .dataframe tbody tr th {\n",
       "        vertical-align: top;\n",
       "    }\n",
       "\n",
       "    .dataframe thead th {\n",
       "        text-align: right;\n",
       "    }\n",
       "</style>\n",
       "<table border=\"1\" class=\"dataframe\">\n",
       "  <thead>\n",
       "    <tr style=\"text-align: right;\">\n",
       "      <th></th>\n",
       "      <th>max</th>\n",
       "      <th>min</th>\n",
       "      <th>STATE_MAX</th>\n",
       "      <th>STATE_MIN</th>\n",
       "    </tr>\n",
       "    <tr>\n",
       "      <th>DATE</th>\n",
       "      <th></th>\n",
       "      <th></th>\n",
       "      <th></th>\n",
       "      <th></th>\n",
       "    </tr>\n",
       "  </thead>\n",
       "  <tbody>\n",
       "    <tr>\n",
       "      <th>2001-07-01</th>\n",
       "      <td>1.491</td>\n",
       "      <td>0.766</td>\n",
       "      <td>BAHIA</td>\n",
       "      <td>SAO PAULO</td>\n",
       "    </tr>\n",
       "    <tr>\n",
       "      <th>2001-08-01</th>\n",
       "      <td>1.650</td>\n",
       "      <td>0.762</td>\n",
       "      <td>AMAPA</td>\n",
       "      <td>SAO PAULO</td>\n",
       "    </tr>\n",
       "    <tr>\n",
       "      <th>2001-09-01</th>\n",
       "      <td>1.790</td>\n",
       "      <td>0.765</td>\n",
       "      <td>PARA</td>\n",
       "      <td>SAO PAULO</td>\n",
       "    </tr>\n",
       "    <tr>\n",
       "      <th>2001-10-01</th>\n",
       "      <td>1.650</td>\n",
       "      <td>0.781</td>\n",
       "      <td>AMAPA</td>\n",
       "      <td>SAO PAULO</td>\n",
       "    </tr>\n",
       "    <tr>\n",
       "      <th>2001-11-01</th>\n",
       "      <td>1.650</td>\n",
       "      <td>0.768</td>\n",
       "      <td>AMAPA</td>\n",
       "      <td>SAO PAULO</td>\n",
       "    </tr>\n",
       "    <tr>\n",
       "      <th>...</th>\n",
       "      <td>...</td>\n",
       "      <td>...</td>\n",
       "      <td>...</td>\n",
       "      <td>...</td>\n",
       "    </tr>\n",
       "    <tr>\n",
       "      <th>2021-10-01</th>\n",
       "      <td>7.090</td>\n",
       "      <td>4.552</td>\n",
       "      <td>RIO GRANDE DO SUL</td>\n",
       "      <td>SAO PAULO</td>\n",
       "    </tr>\n",
       "    <tr>\n",
       "      <th>2021-11-01</th>\n",
       "      <td>7.629</td>\n",
       "      <td>4.978</td>\n",
       "      <td>RIO GRANDE DO SUL</td>\n",
       "      <td>PARAIBA</td>\n",
       "    </tr>\n",
       "    <tr>\n",
       "      <th>2021-12-01</th>\n",
       "      <td>7.629</td>\n",
       "      <td>4.605</td>\n",
       "      <td>RIO GRANDE DO SUL</td>\n",
       "      <td>SAO PAULO</td>\n",
       "    </tr>\n",
       "    <tr>\n",
       "      <th>2022-01-01</th>\n",
       "      <td>7.289</td>\n",
       "      <td>4.509</td>\n",
       "      <td>RIO GRANDE DO SUL</td>\n",
       "      <td>SAO PAULO</td>\n",
       "    </tr>\n",
       "    <tr>\n",
       "      <th>2022-02-01</th>\n",
       "      <td>7.180</td>\n",
       "      <td>4.015</td>\n",
       "      <td>PARA</td>\n",
       "      <td>SAO PAULO</td>\n",
       "    </tr>\n",
       "  </tbody>\n",
       "</table>\n",
       "<p>247 rows × 4 columns</p>\n",
       "</div>"
      ],
      "text/plain": [
       "              max    min          STATE_MAX  STATE_MIN\n",
       "DATE                                                  \n",
       "2001-07-01  1.491  0.766              BAHIA  SAO PAULO\n",
       "2001-08-01  1.650  0.762              AMAPA  SAO PAULO\n",
       "2001-09-01  1.790  0.765               PARA  SAO PAULO\n",
       "2001-10-01  1.650  0.781              AMAPA  SAO PAULO\n",
       "2001-11-01  1.650  0.768              AMAPA  SAO PAULO\n",
       "...           ...    ...                ...        ...\n",
       "2021-10-01  7.090  4.552  RIO GRANDE DO SUL  SAO PAULO\n",
       "2021-11-01  7.629  4.978  RIO GRANDE DO SUL    PARAIBA\n",
       "2021-12-01  7.629  4.605  RIO GRANDE DO SUL  SAO PAULO\n",
       "2022-01-01  7.289  4.509  RIO GRANDE DO SUL  SAO PAULO\n",
       "2022-02-01  7.180  4.015               PARA  SAO PAULO\n",
       "\n",
       "[247 rows x 4 columns]"
      ]
     },
     "execution_count": 252,
     "metadata": {},
     "output_type": "execute_result"
    }
   ],
   "source": [
    "df_diff"
   ]
  },
  {
   "cell_type": "code",
   "execution_count": 253,
   "id": "22b0f134",
   "metadata": {},
   "outputs": [
    {
     "data": {
      "text/plain": [
       "PARA                 84\n",
       "ACRE                 83\n",
       "RIO GRANDE DO SUL    43\n",
       "AMAZONAS             24\n",
       "MARANHAO              8\n",
       "AMAPA                 3\n",
       "BAHIA                 1\n",
       "RONDONIA              1\n",
       "Name: STATE_MAX, dtype: int64"
      ]
     },
     "execution_count": 253,
     "metadata": {},
     "output_type": "execute_result"
    }
   ],
   "source": [
    "df_diff['STATE_MAX'].value_counts()"
   ]
  },
  {
   "cell_type": "code",
   "execution_count": 254,
   "id": "720445d7",
   "metadata": {},
   "outputs": [
    {
     "data": {
      "text/plain": [
       "SAO PAULO       221\n",
       "MATO GROSSO      20\n",
       "PERNAMBUCO        3\n",
       "PARANA            1\n",
       "MINAS GERAIS      1\n",
       "PARAIBA           1\n",
       "Name: STATE_MIN, dtype: int64"
      ]
     },
     "execution_count": 254,
     "metadata": {},
     "output_type": "execute_result"
    }
   ],
   "source": [
    "df_diff['STATE_MIN'].value_counts()"
   ]
  },
  {
   "attachments": {
    "image.png": {
     "image/png": "[encoded data removed]"
    }
   },
   "cell_type": "markdown",
   "id": "3f4b7f70",
   "metadata": {},
   "source": [
    "![image.png](attachment:image.png)"
   ]
  },
  {
   "attachments": {
    "image.png": {
     "image/png": "[encoded data removed]"
    }
   },
   "cell_type": "markdown",
   "id": "0999ae5a",
   "metadata": {},
   "source": [
    "![image.png](attachment:image.png)"
   ]
  },
  {
   "cell_type": "markdown",
   "id": "995ab70c",
   "metadata": {},
   "source": [
    "# Conclusão\n",
    "\n",
    "Essas foram algumas análises do DataSet de Fuel.\n",
    "\n",
    "A variação do preço médio do etanol hidratado ao longo de 22 anos, de 2001 a 2022. Inicialmente, o preço era de 1,068662 reais por litro e, em 2022, o preço atingiu o valor de 6,050255 reais por litro. Durante esse período, houve variações significativas no preço, com algumas quedas e altas expressivas, como em 2003, quando houve um aumento de 30,59% no preço médio, e em 2021, quando houve um aumento de 38,91%. No entanto, em alguns anos, o preço se manteve estável ou apresentou variações menores. Em 2007, houve uma queda de 9,23% no preço e, em 2012, houve uma pequena variação positiva de 0,99%. De forma geral, os dados indicam que o preço do etanol hidratado é bastante volátil e pode sofrer variações expressivas em curtos períodos de tempo. É importante destacar que a pandemia teve um grande impacto no mercado de combustíveis como um todo. O distanciamento social e as restrições de mobilidade afetaram significativamente a demanda por gasolina e etanol, o que pode ter afetado os preços do etanol hidratado nos últimos anos. Além disso, a volatilidade do mercado global de energia causada pela pandemia pode ter afetado os preços do etanol, assim como afetou os preços de outras commodities."
   ]
  }
 ],
 "metadata": {
  "kernelspec": {
   "display_name": "Python 3 (ipykernel)",
   "language": "python",
   "name": "python3"
  },
  "language_info": {
   "codemirror_mode": {
    "name": "ipython",
    "version": 3
   },
   "file_extension": ".py",
   "mimetype": "text/x-python",
   "name": "python",
   "nbconvert_exporter": "python",
   "pygments_lexer": "ipython3",
   "version": "3.9.13"
  }
 },
 "nbformat": 4,
 "nbformat_minor": 5
}
