{
  "cells": [
    {
      "cell_type": "markdown",
      "metadata": {
        "id": "view-in-github",
        "colab_type": "text"
      },
      "source": [
        "<a href=\"https://colab.research.google.com/github/0000danilo/Portf-lio-Python/blob/main/fuel_price_in_brazil_2001_2022.ipynb\" target=\"_parent\"><img src=\"https://colab.research.google.com/assets/colab-badge.svg\" alt=\"Open In Colab\"/></a>"
      ]
    },
    {
      "cell_type": "markdown",
      "metadata": {
        "id": "-0nKexuyK12u"
      },
      "source": [
        "# Exploração e análise de dados de crédito com Python"
      ]
    },
    {
      "cell_type": "markdown",
      "metadata": {
        "id": "WipzRhe9K12w"
      },
      "source": [
        "Esse notebook faz parte do meu desenvolvimento como Análista de Dados Python"
      ]
    },
    {
      "cell_type": "markdown",
      "metadata": {
        "id": "1GtJJRfeK12w"
      },
      "source": [
        "## Os dados:\n",
        "Os dados representam informações de combustíveis de um banco e contam com as seguintes colunas:\n",
        "\n",
        "- DATE = data da venda\n",
        "- PRODUCT = tipo do produto\n",
        "- REGION = região\n",
        "- STATE = estado\n",
        "- CITY = cidade\n",
        "- NUMBER OF FUEL STATIONS SEARCHE \n",
        "- UNIT OF MEASUREMENT\t\n",
        "- RESALE AVERAGE PRICE = preço medio de revenda\n",
        "- RESALE STANDARD DEVIATION\t\n",
        "- RESALE MINIMUM PRICE\t\n",
        "- RESALE MAXIMUM PRICE\t\n",
        "- DISTRIBUTION AVERAGE PRICE\n",
        "- DISTRIBUTION STANDARD DEVIATION\n",
        "- DISTRIBUTION MINIMUM PRICE\t\n",
        "- DISTRIBUTION MAXIMUM PRICE"
      ]
    },
    {
      "cell_type": "markdown",
      "metadata": {
        "id": "VfMTOryOK12x"
      },
      "source": [
        "## Exploração de dados:\n",
        "A primeira fase da análise é entender o que tem na nossa matéria prima. Vamos a exploração de dados:\n"
      ]
    },
    {
      "cell_type": "markdown",
      "metadata": {
        "id": "ZebhqS0HK12x"
      },
      "source": [
        "### 1. Importando as bibliotecas e explorando os dados"
      ]
    },
    {
      "cell_type": "code",
      "execution_count": null,
      "metadata": {
        "id": "_Dm39PZFK12x"
      },
      "outputs": [],
      "source": [
        "import pandas as pd\n",
        "import numpy as np"
      ]
    },
    {
      "cell_type": "code",
      "execution_count": null,
      "metadata": {
        "id": "Zu1Y_uJeK12y"
      },
      "outputs": [],
      "source": [
        "df = pd.read_csv('Fuel_price_in_Brazil_2001_2022.csv', sep = ';')"
      ]
    },
    {
      "cell_type": "code",
      "execution_count": null,
      "metadata": {
        "scrolled": true,
        "id": "BbrsS_e3K12y"
      },
      "outputs": [],
      "source": [
        "df.head()"
      ]
    },
    {
      "cell_type": "markdown",
      "metadata": {
        "id": "N1d82MHxK12z"
      },
      "source": [
        "- Logo foi verificado que há colunas vazias e o proximo passo vai ser retirá-las "
      ]
    },
    {
      "cell_type": "code",
      "execution_count": null,
      "metadata": {
        "id": "EdiISW-dK12z"
      },
      "outputs": [],
      "source": [
        "# Selecionar as colunas não nomeadas para remover\n",
        "remov_col = ['Unnamed: 15', 'Unnamed: 16', 'Unnamed: 17', 'Unnamed: 18', 'Unnamed: 19']\n",
        "\n",
        "# Remover as colunas usando o método drop()\n",
        "df = df.drop(remov_col, axis = 1)\n"
      ]
    },
    {
      "cell_type": "markdown",
      "metadata": {
        "id": "Ch9_fQRtK12z"
      },
      "source": [
        "- Foi usado o metodo drop para retirar as colunas vazias"
      ]
    },
    {
      "cell_type": "code",
      "execution_count": null,
      "metadata": {
        "id": "W_7rxDyDK12z"
      },
      "outputs": [],
      "source": [
        "df.head(5)"
      ]
    },
    {
      "cell_type": "markdown",
      "metadata": {
        "id": "34OQUrjvK12z"
      },
      "source": [
        "### 2. Investigando as colunas e etendendo o conjunto de dados usando o head(), info() e shape"
      ]
    },
    {
      "cell_type": "code",
      "execution_count": null,
      "metadata": {
        "id": "uA45wek0K12z"
      },
      "outputs": [],
      "source": [
        "df.head()"
      ]
    },
    {
      "cell_type": "code",
      "execution_count": null,
      "metadata": {
        "id": "aQ3vHmw-K120"
      },
      "outputs": [],
      "source": [
        "df.info()"
      ]
    },
    {
      "cell_type": "markdown",
      "metadata": {
        "id": "nOEzi-lWK120"
      },
      "source": [
        " - Foi verifiado os tipos das colunas, e ja foi chamando a atenção na coluna \"DATE\" que vai ser preciso fazer a conversão para \"DATETIME\""
      ]
    },
    {
      "cell_type": "code",
      "execution_count": null,
      "metadata": {
        "id": "p5tlVwL4K120"
      },
      "outputs": [],
      "source": [
        "df.shape"
      ]
    },
    {
      "cell_type": "markdown",
      "metadata": {
        "id": "BZ3FN49JK120"
      },
      "source": [
        "### 3. Analisando algumas entradas especificas da coluna DATE"
      ]
    },
    {
      "cell_type": "code",
      "execution_count": null,
      "metadata": {
        "id": "H8y1tUpaK120"
      },
      "outputs": [],
      "source": [
        "type(df['DATE'][2])"
      ]
    },
    {
      "cell_type": "markdown",
      "metadata": {
        "id": "NuolRyZ1K120"
      },
      "source": [
        "### 4. Foi percebido que a coluna DATE  esta formatada como string. Utilizando o método pd.to_datetime(), converto a coluna para Timestamp / Datetime."
      ]
    },
    {
      "cell_type": "code",
      "execution_count": null,
      "metadata": {
        "id": "oFxga8pEK121"
      },
      "outputs": [],
      "source": [
        "df['DATE'] = pd.to_datetime(df['DATE'])\n",
        "type(df['DATE'][2])\n"
      ]
    },
    {
      "cell_type": "code",
      "execution_count": null,
      "metadata": {
        "id": "AwpuQXmcK121"
      },
      "outputs": [],
      "source": [
        "df['YEAR'] = df['DATE'].dt.year"
      ]
    },
    {
      "cell_type": "markdown",
      "metadata": {
        "id": "CSYQMheMK121"
      },
      "source": [
        "- foi criado uma nova coluna com a infomações ano para facilitar a análise em alguns pontos."
      ]
    },
    {
      "cell_type": "code",
      "execution_count": null,
      "metadata": {
        "id": "bLoZe1uFK121"
      },
      "outputs": [],
      "source": [
        "df.head(5)"
      ]
    },
    {
      "cell_type": "markdown",
      "metadata": {
        "id": "8SEcX37JK121"
      },
      "source": [
        "### 5. Utilizando o value_counts(), listei todos os tipos de produtos contidos na base de dados."
      ]
    },
    {
      "cell_type": "code",
      "execution_count": null,
      "metadata": {
        "id": "rAuNv90bK121"
      },
      "outputs": [],
      "source": [
        "df['PRODUCT'].value_counts()"
      ]
    },
    {
      "cell_type": "markdown",
      "metadata": {
        "id": "uZzgMPEtK122"
      },
      "source": [
        "- Irei analisar o produto 'ETANOL HIDRATADO'"
      ]
    },
    {
      "cell_type": "code",
      "execution_count": null,
      "metadata": {
        "id": "ehRo3bp2K122"
      },
      "outputs": [],
      "source": [
        "df['RESALE AVERAGE PRICE'] = df['RESALE AVERAGE PRICE'].replace(',', '.', regex=True)\n",
        "df['RESALE STANDARD DEVIATION'] = df['RESALE STANDARD DEVIATION'].replace(',', '.', regex=True)\n",
        "df['RESALE MINIMUM PRICE'] = df['RESALE MINIMUM PRICE'].replace(',', '.', regex=True)\n",
        "\n"
      ]
    },
    {
      "cell_type": "markdown",
      "metadata": {
        "id": "eG-OAmXVK122"
      },
      "source": [
        "- Fazendo a substituição das virgulas por pontos para poder fazer a conversão de string para float logo em seguida."
      ]
    },
    {
      "cell_type": "code",
      "execution_count": null,
      "metadata": {
        "id": "721mOj8uK123"
      },
      "outputs": [],
      "source": [
        "\n",
        "df['RESALE AVERAGE PRICE'] = df['RESALE AVERAGE PRICE'].astype(float)\n",
        "df['RESALE STANDARD DEVIATION'] = df['RESALE STANDARD DEVIATION'].astype(float)\n",
        "df['RESALE MINIMUM PRICE'] = df['RESALE MINIMUM PRICE'].astype(float)"
      ]
    },
    {
      "cell_type": "code",
      "execution_count": null,
      "metadata": {
        "id": "aVOZBSepK123"
      },
      "outputs": [],
      "source": [
        "df.info()"
      ]
    },
    {
      "cell_type": "markdown",
      "metadata": {
        "id": "dRUoxkf3K123"
      },
      "source": [
        "- Feito a conversão, foi usado o info() para verificar se tudo saiu nos conformes"
      ]
    },
    {
      "cell_type": "markdown",
      "metadata": {
        "id": "GmavYgZiK123"
      },
      "source": [
        "### 6. Filtrando o DataFrame para obter apenas dados do 'ETANOL HIDRATADO' e gravando em uma nova variavel."
      ]
    },
    {
      "cell_type": "code",
      "execution_count": null,
      "metadata": {
        "scrolled": true,
        "id": "oRXnTEGTK124"
      },
      "outputs": [],
      "source": [
        "df_filtro = df['PRODUCT'] == 'ETANOL HIDRATADO'\n",
        "df2 = df[df_filtro]\n",
        "df2.head()"
      ]
    },
    {
      "cell_type": "code",
      "execution_count": null,
      "metadata": {
        "id": "THqr_1TTK124"
      },
      "outputs": [],
      "source": [
        "df2.shape"
      ]
    },
    {
      "cell_type": "markdown",
      "metadata": {
        "id": "sxLXo5cSK124"
      },
      "source": [
        "- Olhando a primeira verificação do shape o resultado foi de 563420 linhas, e filtrando apenas para o produto \"etanol hidratado\"  Obtivermos a quantidade de 118712 linhas "
      ]
    },
    {
      "cell_type": "markdown",
      "metadata": {
        "id": "AfDvJ8I4K124"
      },
      "source": [
        "### 7. Qual o preço médio de revenda da ETANOL HIDRATADO em agosto de 2008?"
      ]
    },
    {
      "cell_type": "code",
      "execution_count": null,
      "metadata": {
        "id": "Pwde7QgRK124"
      },
      "outputs": [],
      "source": [
        "df2[df2['DATE'] == '2008-08-01']['RESALE AVERAGE PRICE'].mean()"
      ]
    },
    {
      "cell_type": "markdown",
      "metadata": {
        "id": "0puySSrfK125"
      },
      "source": [
        "### 8. Qual o preço médio de revenda da etanol hidratado no ano de  2021 em São Paulo?"
      ]
    },
    {
      "cell_type": "code",
      "execution_count": null,
      "metadata": {
        "id": "zM7i8FFrK125"
      },
      "outputs": [],
      "source": [
        "df2[(df2['DATE'].dt.strftime('%Y').str.contains('2021')) & (df2['STATE'] == 'SAO PAULO')]['RESALE AVERAGE PRICE'].mean()\n"
      ]
    },
    {
      "cell_type": "markdown",
      "metadata": {
        "id": "rKEU2tqDK125"
      },
      "source": [
        "- Foi usado o .dt.strftime('%Y').str.contains('2014') para fazer um filtro em 2014, o metodo \"str.contains\" não funciona em valores datetime\n"
      ]
    },
    {
      "cell_type": "markdown",
      "metadata": {
        "id": "1b1hiCybK125"
      },
      "source": [
        "### 9. Em qual(quais) estado(s) o etanol hidratado ultrapassou a barreira dos R$ 4,00? E quando isso ocorreu?"
      ]
    },
    {
      "cell_type": "code",
      "execution_count": null,
      "metadata": {
        "id": "qKz5186LK125"
      },
      "outputs": [],
      "source": [
        "df2[df2['RESALE AVERAGE PRICE'] > 4][['STATE', 'DATE', 'RESALE AVERAGE PRICE']].head(20)"
      ]
    },
    {
      "cell_type": "markdown",
      "metadata": {
        "id": "pwzlUw7eK125"
      },
      "source": [
        "### 10. Qual a média de preço por região em 2019?"
      ]
    },
    {
      "cell_type": "code",
      "execution_count": null,
      "metadata": {
        "id": "bR9t4ACYK125"
      },
      "outputs": [],
      "source": [
        "df2['REGION'].unique()"
      ]
    },
    {
      "cell_type": "code",
      "execution_count": null,
      "metadata": {
        "id": "--aRiGi7K126"
      },
      "outputs": [],
      "source": [
        "df2[(df2['REGION'] == 'SUL') & (df2['DATE'].dt.strftime('%Y').str.contains('2019'))]['RESALE AVERAGE PRICE'].mean()"
      ]
    },
    {
      "cell_type": "code",
      "execution_count": null,
      "metadata": {
        "id": "9S6kd6NBK126"
      },
      "outputs": [],
      "source": [
        "df2[(df2['REGION'] == 'CENTRO OESTE') & (df2['DATE'].dt.strftime('%Y').str.contains('2019'))]['RESALE AVERAGE PRICE'].mean()"
      ]
    },
    {
      "cell_type": "code",
      "execution_count": null,
      "metadata": {
        "id": "P3QzAu_XK126"
      },
      "outputs": [],
      "source": [
        "df2[(df2['REGION'] == 'NORDESTE') & (df2['DATE'].dt.strftime('%Y').str.contains('2019'))]['RESALE AVERAGE PRICE'].mean()"
      ]
    },
    {
      "cell_type": "code",
      "execution_count": null,
      "metadata": {
        "id": "DDQk8W26K127"
      },
      "outputs": [],
      "source": [
        "df2[(df2['REGION'] == 'SUDESTE') & (df2['DATE'].dt.strftime('%Y').str.contains('2019'))]['RESALE AVERAGE PRICE'].mean()"
      ]
    },
    {
      "cell_type": "code",
      "execution_count": null,
      "metadata": {
        "id": "4TqCH-77K127"
      },
      "outputs": [],
      "source": [
        "df2[(df2['REGION'] == 'NORTE') & (df2['DATE'].dt.strftime('%Y').str.contains('2019'))]['RESALE AVERAGE PRICE'].mean()"
      ]
    },
    {
      "cell_type": "markdown",
      "metadata": {
        "id": "s4AZCnuQK127"
      },
      "source": [
        "![image-2.png](attachment:image-2.png)"
      ]
    },
    {
      "cell_type": "markdown",
      "metadata": {
        "id": "-cNurIUiK127"
      },
      "source": [
        "- Analisando o gráfico podemos perceber que o Norte foi a região que teve o maior preço do etanol hidratado"
      ]
    },
    {
      "cell_type": "markdown",
      "metadata": {
        "id": "2BB161RTK127"
      },
      "source": [
        "### 11.  Uma tabela contendo a variação percentual ano a ano para o estado do Rio de Janeiro"
      ]
    },
    {
      "cell_type": "code",
      "execution_count": null,
      "metadata": {
        "id": "ARaKvCsQK127"
      },
      "outputs": [],
      "source": [
        "# Filtrar o dataframe para selecionar apenas as observações referentes ao estado do Rio de Janeiro\n",
        "\n",
        "df_rj = df2[df2['STATE'] == 'RIO DE JANEIRO']"
      ]
    },
    {
      "cell_type": "markdown",
      "metadata": {
        "id": "HuF_5X-WK128"
      },
      "source": [
        "- Agrupar os dados por ano e calcular a média dos preços médios de revenda para cada ano:"
      ]
    },
    {
      "cell_type": "code",
      "execution_count": null,
      "metadata": {
        "id": "y5gLqtgGK128"
      },
      "outputs": [],
      "source": [
        "df_rj_grouped = df_rj.groupby('YEAR')['RESALE AVERAGE PRICE'].mean().reset_index()"
      ]
    },
    {
      "cell_type": "markdown",
      "metadata": {
        "id": "Laa5UeMhK128"
      },
      "source": [
        "- Calcular a variação percentual ano a ano a partir dos valores médios obtidos no passo anterior:"
      ]
    },
    {
      "cell_type": "code",
      "execution_count": null,
      "metadata": {
        "id": "1R2gm0AyK128"
      },
      "outputs": [],
      "source": [
        "df_rj_grouped['VARIAÇÃO %'] = df_rj_grouped['RESALE AVERAGE PRICE'].pct_change() * 100\n"
      ]
    },
    {
      "cell_type": "code",
      "execution_count": null,
      "metadata": {
        "id": "PJ2MsF1EK128"
      },
      "outputs": [],
      "source": [
        "df_rj_grouped.head(22)"
      ]
    },
    {
      "cell_type": "markdown",
      "metadata": {
        "id": "poolteRBK128"
      },
      "source": [
        "![image.png](attachment:image.png)"
      ]
    },
    {
      "cell_type": "markdown",
      "metadata": {
        "id": "-szQYaX0K128"
      },
      "source": [
        "### 12. uma tabela contendo uma serie temporal com a diferença absoluta e percentual entre os valores mais baratos e caros. Apresente também ao lado os estados na qual os maiores e menores preços foram registrados."
      ]
    },
    {
      "cell_type": "code",
      "execution_count": null,
      "metadata": {
        "id": "RaZLUm1VK129"
      },
      "outputs": [],
      "source": [
        "df_max = df2.groupby('DATE').max()['RESALE AVERAGE PRICE']\n",
        "df_min = df2.groupby('DATE').min()['RESALE AVERAGE PRICE']"
      ]
    },
    {
      "cell_type": "code",
      "execution_count": null,
      "metadata": {
        "id": "1pZaL8ZeK129"
      },
      "outputs": [],
      "source": [
        "idx_max = df2.groupby('DATE')['RESALE AVERAGE PRICE'].idxmax()\n",
        "idx_min = df2.groupby('DATE')['RESALE AVERAGE PRICE'].idxmin()"
      ]
    },
    {
      "cell_type": "code",
      "execution_count": null,
      "metadata": {
        "id": "AXz_0n6VK129"
      },
      "outputs": [],
      "source": [
        "df_diff = pd.DataFrame()"
      ]
    },
    {
      "cell_type": "code",
      "execution_count": null,
      "metadata": {
        "id": "HPKxZqaKK129"
      },
      "outputs": [],
      "source": [
        "df_diff['max'] = df_max\n",
        "df_diff['min'] = df_min"
      ]
    },
    {
      "cell_type": "code",
      "execution_count": null,
      "metadata": {
        "id": "qdWrJ8FfK129"
      },
      "outputs": [],
      "source": [
        "df_diff['STATE_MAX'] = df2.loc[idx_max, :]['STATE'].values\n",
        "df_diff['STATE_MIN'] = df2.loc[idx_min, :]['STATE'].values"
      ]
    },
    {
      "cell_type": "code",
      "execution_count": null,
      "metadata": {
        "id": "TeOk5asCK12-"
      },
      "outputs": [],
      "source": [
        "df_diff"
      ]
    },
    {
      "cell_type": "code",
      "execution_count": null,
      "metadata": {
        "id": "2A_h-cDrK12-"
      },
      "outputs": [],
      "source": [
        "df_diff['STATE_MAX'].value_counts()"
      ]
    },
    {
      "cell_type": "code",
      "execution_count": null,
      "metadata": {
        "id": "YdYGq9UeK12-"
      },
      "outputs": [],
      "source": [
        "df_diff['STATE_MIN'].value_counts()"
      ]
    },
    {
      "cell_type": "markdown",
      "metadata": {
        "id": "ToG4Z1aTK12-"
      },
      "source": [
        "![image.png](attachment:image.png)"
      ]
    },
    {
      "cell_type": "markdown",
      "metadata": {
        "id": "2bE-rq09K12_"
      },
      "source": [
        "![image.png](attachment:image.png)"
      ]
    },
    {
      "cell_type": "markdown",
      "metadata": {
        "id": "08DSAu1AK12_"
      },
      "source": [
        "# Conclusão\n",
        "\n",
        "Essas foram algumas análises do DataSet de Fuel.\n",
        "\n",
        "A variação do preço médio do etanol hidratado ao longo de 22 anos, de 2001 a 2022. Inicialmente, o preço era de 1,068662 reais por litro e, em 2022, o preço atingiu o valor de 6,050255 reais por litro. Durante esse período, houve variações significativas no preço, com algumas quedas e altas expressivas, como em 2003, quando houve um aumento de 30,59% no preço médio, e em 2021, quando houve um aumento de 38,91%. No entanto, em alguns anos, o preço se manteve estável ou apresentou variações menores. Em 2007, houve uma queda de 9,23% no preço e, em 2012, houve uma pequena variação positiva de 0,99%. De forma geral, os dados indicam que o preço do etanol hidratado é bastante volátil e pode sofrer variações expressivas em curtos períodos de tempo. É importante destacar que a pandemia teve um grande impacto no mercado de combustíveis como um todo. O distanciamento social e as restrições de mobilidade afetaram significativamente a demanda por gasolina e etanol, o que pode ter afetado os preços do etanol hidratado nos últimos anos. Além disso, a volatilidade do mercado global de energia causada pela pandemia pode ter afetado os preços do etanol, assim como afetou os preços de outras commodities."
      ]
    }
  ],
  "metadata": {
    "kernelspec": {
      "display_name": "Python 3 (ipykernel)",
      "language": "python",
      "name": "python3"
    },
    "language_info": {
      "codemirror_mode": {
        "name": "ipython",
        "version": 3
      },
      "file_extension": ".py",
      "mimetype": "text/x-python",
      "name": "python",
      "nbconvert_exporter": "python",
      "pygments_lexer": "ipython3",
      "version": "3.9.13"
    },
    "colab": {
      "provenance": [],
      "include_colab_link": true
    }
  },
  "nbformat": 4,
  "nbformat_minor": 0
}